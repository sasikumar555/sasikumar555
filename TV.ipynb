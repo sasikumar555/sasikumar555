{
  "nbformat": 4,
  "nbformat_minor": 0,
  "metadata": {
    "colab": {
      "provenance": [],
      "authorship_tag": "ABX9TyNlgsz/mYjPYi3mLxIXBoWt",
      "include_colab_link": true
    },
    "kernelspec": {
      "name": "python3",
      "display_name": "Python 3"
    },
    "language_info": {
      "name": "python"
    }
  },
  "cells": [
    {
      "cell_type": "markdown",
      "metadata": {
        "id": "view-in-github",
        "colab_type": "text"
      },
      "source": [
        "<a href=\"https://colab.research.google.com/github/sasikumar555/sasikumar555/blob/main/TV.ipynb\" target=\"_parent\"><img src=\"https://colab.research.google.com/assets/colab-badge.svg\" alt=\"Open In Colab\"/></a>"
      ]
    },
    {
      "cell_type": "markdown",
      "source": [
        "1-assignment"
      ],
      "metadata": {
        "id": "VN16k8Y3P5NV"
      }
    },
    {
      "cell_type": "markdown",
      "source": [
        "1. Syntax and Semantics"
      ],
      "metadata": {
        "id": "wKxnHA83RghZ"
      }
    },
    {
      "cell_type": "code",
      "execution_count": null,
      "metadata": {
        "colab": {
          "base_uri": "https://localhost:8080/"
        },
        "id": "ot5-i-UZi6Qp",
        "outputId": "fc7751ec-00b4-4bb7-fde3-8261969701a6"
      },
      "outputs": [
        {
          "output_type": "stream",
          "name": "stdout",
          "text": [
            "Hello, World!\n"
          ]
        }
      ],
      "source": [
        "# Question 1: Write a Python program to print \"Hello, World!\".\n",
        "print(\"Hello, World!\")\n"
      ]
    },
    {
      "cell_type": "code",
      "source": [
        "# Question 2: Write a Python program that takes a user input and prints it.\n",
        "user_input = input(\"Enter something: \")\n",
        "print(\"You entered:\", user_input)\n"
      ],
      "metadata": {
        "colab": {
          "base_uri": "https://localhost:8080/"
        },
        "id": "5rzloP5lQby0",
        "outputId": "02eccd90-f2d5-4a19-cd68-1fbc6582db51"
      },
      "execution_count": null,
      "outputs": [
        {
          "output_type": "stream",
          "name": "stdout",
          "text": [
            "Enter something: 5\n",
            "You entered: 5\n"
          ]
        }
      ]
    },
    {
      "cell_type": "code",
      "source": [
        "# Question 3: Write a Python program to check if a number is positive, negative, or zero.\n",
        "num = float(input(\"Enter a number: \"))\n",
        "if num > 0:\n",
        "    print(\"Positive\")\n",
        "elif num < 0:\n",
        "    print(\"Negative\")\n",
        "else:\n",
        "    print(\"Zero\")\n"
      ],
      "metadata": {
        "colab": {
          "base_uri": "https://localhost:8080/"
        },
        "id": "4jWoAHcfQb1c",
        "outputId": "15fa4ffa-6505-4017-82be-ddc07f865f6f"
      },
      "execution_count": null,
      "outputs": [
        {
          "output_type": "stream",
          "name": "stdout",
          "text": [
            "Enter a number: 5\n",
            "Positive\n"
          ]
        }
      ]
    },
    {
      "cell_type": "code",
      "source": [
        "# Question 4: Write a Python program to find the largest of three numbers.\n",
        "a = float(input(\"Enter first number: \"))\n",
        "b = float(input(\"Enter second number: \"))\n",
        "c = float(input(\"Enter third number: \"))\n",
        "largest = max(a, b, c)\n",
        "print(\"The largest number is:\", largest)\n"
      ],
      "metadata": {
        "colab": {
          "base_uri": "https://localhost:8080/"
        },
        "id": "Y07AT3zGQb3m",
        "outputId": "d108ec43-7485-45dd-e89a-3877d3151748"
      },
      "execution_count": null,
      "outputs": [
        {
          "output_type": "stream",
          "name": "stdout",
          "text": [
            "Enter first number: 4\n",
            "Enter second number: 5\n",
            "Enter third number: 6\n",
            "The largest number is: 6.0\n"
          ]
        }
      ]
    },
    {
      "cell_type": "code",
      "source": [
        "# Question 5: Write a Python program to calculate the factorial of a number.\n",
        "num = int(input(\"Enter a number: \"))\n",
        "factorial = 1\n",
        "for i in range(1, num + 1):\n",
        "    factorial *= i\n",
        "print(\"Factorial is:\", factorial)\n"
      ],
      "metadata": {
        "colab": {
          "base_uri": "https://localhost:8080/"
        },
        "id": "PtrvecKlQb6G",
        "outputId": "5784ae59-35a3-410a-a4b2-661f3ce39aec"
      },
      "execution_count": null,
      "outputs": [
        {
          "output_type": "stream",
          "name": "stdout",
          "text": [
            "Enter a number: 4\n",
            "Factorial is: 24\n"
          ]
        }
      ]
    },
    {
      "cell_type": "markdown",
      "source": [
        "2. Variables and Data Types\n",
        "\n",
        "\n"
      ],
      "metadata": {
        "id": "oN2Auoe1RKC7"
      }
    },
    {
      "cell_type": "code",
      "source": [
        "# Question 6: Create variables of different data types: integer, float, string, and boolean. Print their values and types.\n",
        "i = 10\n",
        "f = 3.14\n",
        "s = \"Python\"\n",
        "b = True\n",
        "\n",
        "print(i, type(i))\n",
        "print(f, type(f))\n",
        "print(s, type(s))\n",
        "print(b, type(b))\n"
      ],
      "metadata": {
        "colab": {
          "base_uri": "https://localhost:8080/"
        },
        "id": "q9A3ZpqxRMVo",
        "outputId": "84fc7554-bd3b-40a2-9fe4-ce0e500e8379"
      },
      "execution_count": null,
      "outputs": [
        {
          "output_type": "stream",
          "name": "stdout",
          "text": [
            "10 <class 'int'>\n",
            "3.14 <class 'float'>\n",
            "Python <class 'str'>\n",
            "True <class 'bool'>\n"
          ]
        }
      ]
    },
    {
      "cell_type": "code",
      "source": [
        "# Question 7: Write a Python program to swap the values of two variables.\n",
        "x = 5\n",
        "y = 10\n",
        "x, y = y, x\n",
        "print(\"x =\", x)\n",
        "print(\"y =\", y)\n"
      ],
      "metadata": {
        "colab": {
          "base_uri": "https://localhost:8080/"
        },
        "id": "m0mz1vBPQb8j",
        "outputId": "522ed07d-9093-4c15-8e13-def05cf90f3f"
      },
      "execution_count": null,
      "outputs": [
        {
          "output_type": "stream",
          "name": "stdout",
          "text": [
            "x = 10\n",
            "y = 5\n"
          ]
        }
      ]
    },
    {
      "cell_type": "code",
      "source": [
        "# Question 8: Write a Python program to convert Celsius to Fahrenheit.\n",
        "celsius = float(input(\"Enter temperature in Celsius: \"))\n",
        "fahrenheit = (celsius * 9/5) + 32\n",
        "print(\"Temperature in Fahrenheit:\", fahrenheit)\n",
        "\n"
      ],
      "metadata": {
        "colab": {
          "base_uri": "https://localhost:8080/"
        },
        "id": "GzbRasP5Qb-1",
        "outputId": "a34e9483-3b48-432e-9487-ed644520179a"
      },
      "execution_count": null,
      "outputs": [
        {
          "output_type": "stream",
          "name": "stdout",
          "text": [
            "Enter temperature in Celsius: 45\n",
            "Temperature in Fahrenheit: 113.0\n"
          ]
        }
      ]
    },
    {
      "cell_type": "code",
      "source": [
        "# Question 9: Write a Python program to concatenate two strings.\n",
        "str1 = \"Hello\"\n",
        "str2 = \"World\"\n",
        "result = str1 + \" \" + str2\n",
        "print(result)\n"
      ],
      "metadata": {
        "colab": {
          "base_uri": "https://localhost:8080/"
        },
        "id": "4Cy4RfgYQcBP",
        "outputId": "07de2911-4423-4c35-d5e5-1539fe2cf742"
      },
      "execution_count": null,
      "outputs": [
        {
          "output_type": "stream",
          "name": "stdout",
          "text": [
            "Hello World\n"
          ]
        }
      ]
    },
    {
      "cell_type": "code",
      "source": [
        "# Question 10: Write a Python program to check if a variable is of a specific data type.\n",
        "x = 5\n",
        "if isinstance(x, int):\n",
        "    print(\"x is an integer\")\n"
      ],
      "metadata": {
        "colab": {
          "base_uri": "https://localhost:8080/"
        },
        "id": "V4IZUQFjc9VF",
        "outputId": "a0e61510-fa83-406a-ac81-78332a4133f9"
      },
      "execution_count": null,
      "outputs": [
        {
          "output_type": "stream",
          "name": "stdout",
          "text": [
            "x is an integer\n"
          ]
        }
      ]
    },
    {
      "cell_type": "markdown",
      "source": [
        "3. Basic Operators (Arithmetic, Comparison, Logical)"
      ],
      "metadata": {
        "id": "yY4zVjx_cXKU"
      }
    },
    {
      "cell_type": "code",
      "source": [
        "# Question 11: Write a Python program to perform arithmetic operations: addition, subtraction, multiplication, and division.\n",
        "a = 10\n",
        "b = 3\n",
        "print(\"Addition:\", a + b)\n",
        "print(\"Subtraction:\", a - b)\n",
        "print(\"Multiplication:\", a * b)\n",
        "print(\"Division:\", a / b)\n",
        "\n"
      ],
      "metadata": {
        "colab": {
          "base_uri": "https://localhost:8080/"
        },
        "id": "Ev7glH1gQcGN",
        "outputId": "93f253b4-ca03-4d39-f663-a10d173c148a"
      },
      "execution_count": null,
      "outputs": [
        {
          "output_type": "stream",
          "name": "stdout",
          "text": [
            "Addition: 13\n",
            "Subtraction: 7\n",
            "Multiplication: 30\n",
            "Division: 3.3333333333333335\n"
          ]
        }
      ]
    },
    {
      "cell_type": "code",
      "source": [
        "# Question 12: Write a Python program to demonstrate comparison operators: equal to, not equal to, greater than, less than.\n",
        "x = 5\n",
        "y = 7\n",
        "print(\"x == y:\", x == y)\n",
        "print(\"x != y:\", x != y)\n",
        "print(\"x > y:\", x > y)\n",
        "print(\"x < y:\", x < y)\n",
        "\n"
      ],
      "metadata": {
        "colab": {
          "base_uri": "https://localhost:8080/"
        },
        "id": "Vd_tHCQ0QcJ1",
        "outputId": "bcbbce2a-63b9-4616-b4ae-c29a0a97ac23"
      },
      "execution_count": null,
      "outputs": [
        {
          "output_type": "stream",
          "name": "stdout",
          "text": [
            "x == y: False\n",
            "x != y: True\n",
            "x > y: False\n",
            "x < y: True\n"
          ]
        }
      ]
    },
    {
      "cell_type": "code",
      "source": [
        "# Question 13: Write a Python program to demonstrate logical operators: and, or, not.\n",
        "a = True\n",
        "b = False\n",
        "print(\"a and b:\", a and b)\n",
        "print(\"a or b:\", a or b)\n",
        "print(\"not a:\", not a)\n",
        "\n"
      ],
      "metadata": {
        "colab": {
          "base_uri": "https://localhost:8080/"
        },
        "id": "BGGErF2PcfUf",
        "outputId": "1e440173-911d-4439-cd27-c3706e28f0c1"
      },
      "execution_count": null,
      "outputs": [
        {
          "output_type": "stream",
          "name": "stdout",
          "text": [
            "a and b: False\n",
            "a or b: True\n",
            "not a: False\n"
          ]
        }
      ]
    },
    {
      "cell_type": "code",
      "source": [
        "# Question 14: Write a Python program to calculate the square of a number.\n",
        "num = float(input(\"Enter a number: \"))\n",
        "square = num ** 2\n",
        "print(\"Square is:\", square)\n"
      ],
      "metadata": {
        "colab": {
          "base_uri": "https://localhost:8080/"
        },
        "id": "Ce2q5EShcfRJ",
        "outputId": "41c00598-c850-436f-d016-e794e9cfb3b9"
      },
      "execution_count": null,
      "outputs": [
        {
          "output_type": "stream",
          "name": "stdout",
          "text": [
            "Enter a number: 5\n",
            "Square is: 25.0\n"
          ]
        }
      ]
    },
    {
      "cell_type": "code",
      "source": [
        "# Question 15: Write a Python program to check if a number is even or odd.\n",
        "num = int(input(\"Enter a number: \"))\n",
        "if num % 2 == 0:\n",
        "    print(\"Even\")\n",
        "else:\n",
        "    print(\"Odd\")\n"
      ],
      "metadata": {
        "colab": {
          "base_uri": "https://localhost:8080/"
        },
        "id": "x2v0qBxNcfL2",
        "outputId": "083d614e-1835-4e85-ffb5-c2578aeac8a4"
      },
      "execution_count": null,
      "outputs": [
        {
          "output_type": "stream",
          "name": "stdout",
          "text": [
            "Enter a number: 45\n",
            "Odd\n"
          ]
        }
      ]
    },
    {
      "cell_type": "code",
      "source": [
        "# Question 16: Write a Python program to find the sum of the first n natural numbers.\n",
        "n = int(input(\"Enter a number: \"))\n",
        "total = n * (n + 1) // 2\n",
        "print(\"Sum of first\", n, \"natural numbers is:\", total)\n"
      ],
      "metadata": {
        "colab": {
          "base_uri": "https://localhost:8080/"
        },
        "id": "bvbGRpzTdKCr",
        "outputId": "3238f544-8f32-49ec-d3d5-0e0fca147f30"
      },
      "execution_count": null,
      "outputs": [
        {
          "output_type": "stream",
          "name": "stdout",
          "text": [
            "Enter a number: 5\n",
            "Sum of first 5 natural numbers is: 15\n"
          ]
        }
      ]
    },
    {
      "cell_type": "code",
      "source": [
        "# Question 17: Write a Python program to check if a year is a leap year.\n",
        "year = int(input(\"Enter a year: \"))\n",
        "if (year % 4 == 0 and year % 100 != 0) or (year % 400 == 0):\n",
        "    print(year, \"is a leap year\")\n",
        "else:\n",
        "    print(year, \"is not a leap year\")\n"
      ],
      "metadata": {
        "colab": {
          "base_uri": "https://localhost:8080/"
        },
        "id": "IfaflCe0cfJi",
        "outputId": "2c39277b-adad-4505-a602-70ad6590a3fe"
      },
      "execution_count": null,
      "outputs": [
        {
          "output_type": "stream",
          "name": "stdout",
          "text": [
            "Enter a year: 2001\n",
            "2001 is not a leap year\n"
          ]
        }
      ]
    },
    {
      "cell_type": "code",
      "source": [
        "# Question 18: Write a Python program to reverse a string.\n",
        "s = input(\"Enter a string: \")\n",
        "reversed_s = s[::-1]\n",
        "print(\"Reversed string:\", reversed_s)\n"
      ],
      "metadata": {
        "colab": {
          "base_uri": "https://localhost:8080/"
        },
        "id": "fHQGzgU9ce_a",
        "outputId": "1e650a03-2048-4e01-f9ad-75580e460499"
      },
      "execution_count": null,
      "outputs": [
        {
          "output_type": "stream",
          "name": "stdout",
          "text": [
            "Enter a string: sasi\n",
            "Reversed string: isas\n"
          ]
        }
      ]
    },
    {
      "cell_type": "code",
      "source": [
        "# Question 19: Write a Python program to check if a string is a palindrome.\n",
        "s = input(\"Enter a string: \")\n",
        "if s == s[::-1]:\n",
        "    print(\"Palindrome\")\n",
        "else:\n",
        "    print(\"Not a palindrome\")\n"
      ],
      "metadata": {
        "colab": {
          "base_uri": "https://localhost:8080/"
        },
        "id": "3NZBq1h5kaAH",
        "outputId": "d7f4924a-4a7c-4235-f6b7-c17488fa7f67"
      },
      "execution_count": null,
      "outputs": [
        {
          "output_type": "stream",
          "name": "stdout",
          "text": [
            "Enter a string: sasi\n",
            "Not a palindrome\n"
          ]
        }
      ]
    },
    {
      "cell_type": "code",
      "source": [
        "# Question 20: Write a Python program to sort a list of numbers in ascending order.\n",
        "numbers = list(map(int, input(\"Enter numbers separated by space: \").split()))\n",
        "numbers.sort()\n",
        "print(\"Sorted list:\", numbers)\n"
      ],
      "metadata": {
        "colab": {
          "base_uri": "https://localhost:8080/"
        },
        "id": "hwSXIrFTkZ4l",
        "outputId": "7cfa716f-69ab-4dab-c5be-a994992bc30b"
      },
      "execution_count": null,
      "outputs": [
        {
          "output_type": "stream",
          "name": "stdout",
          "text": [
            "Enter numbers separated by space: 1 2 3 4\n",
            "Sorted list: [1, 2, 3, 4]\n"
          ]
        }
      ]
    },
    {
      "cell_type": "markdown",
      "source": [
        "Lesson 2.1: Conditional Statements"
      ],
      "metadata": {
        "id": "eQiiaLG8kuZJ"
      }
    },
    {
      "cell_type": "code",
      "source": [
        "# Assignment 1: Simple if Statement\n",
        "# Write a program that asks the user to input a number and prints whether the number is positive.\n",
        "num = float(input(\"Enter a number: \"))\n",
        "if num > 0:\n",
        "    print(\"The number is positive.\")\n"
      ],
      "metadata": {
        "colab": {
          "base_uri": "https://localhost:8080/"
        },
        "id": "RSvQ8qonlfv8",
        "outputId": "82df6616-ef3b-462f-fc71-446c53eaa0a8"
      },
      "execution_count": null,
      "outputs": [
        {
          "output_type": "stream",
          "name": "stdout",
          "text": [
            "Enter a number: 5\n",
            "The number is positive.\n"
          ]
        }
      ]
    },
    {
      "cell_type": "code",
      "source": [
        "# Assignment 2: if-else Statement\n",
        "# Write a program that asks the user to input a number and prints whether the number is positive or negative.\n",
        "num = float(input(\"Enter a number: \"))\n",
        "if num >= 0:\n",
        "    print(\"The number is positive.\")\n",
        "else:\n",
        "    print(\"The number is negative.\")\n"
      ],
      "metadata": {
        "colab": {
          "base_uri": "https://localhost:8080/"
        },
        "id": "sScnui1WlgoK",
        "outputId": "e17727f6-5636-4841-cf2e-b7e2bf6033de"
      },
      "execution_count": null,
      "outputs": [
        {
          "output_type": "stream",
          "name": "stdout",
          "text": [
            "Enter a number: 5\n",
            "The number is positive.\n"
          ]
        }
      ]
    },
    {
      "cell_type": "code",
      "source": [
        "# Assignment 3: if-elif-else Statement\n",
        "# Write a program that asks the user to input a number and prints whether the number is positive, negative, or zero.\n",
        "num = float(input(\"Enter a number: \"))\n",
        "if num > 0:\n",
        "    print(\"Positive\")\n",
        "elif num < 0:\n",
        "    print(\"Negative\")\n",
        "else:\n",
        "    print(\"Zero\")\n"
      ],
      "metadata": {
        "colab": {
          "base_uri": "https://localhost:8080/"
        },
        "id": "V0nPmaHdlgkl",
        "outputId": "a6a090db-c1ec-47ac-b57a-5e9dd5915852"
      },
      "execution_count": null,
      "outputs": [
        {
          "output_type": "stream",
          "name": "stdout",
          "text": [
            "Enter a number: 5\n",
            "Positive\n"
          ]
        }
      ]
    },
    {
      "cell_type": "code",
      "source": [
        "# Assignment 4: Nested if Statement\n",
        "# Write a program that asks the user to input a number and prints whether the number is positive and even, positive and odd, or negative.\n",
        "num = int(input(\"Enter a number: \"))\n",
        "if num > 0:\n",
        "    if num % 2 == 0:\n",
        "        print(\"Positive and even\")\n",
        "    else:\n",
        "        print(\"Positive and odd\")\n",
        "else:\n",
        "    print(\"Negative\")\n"
      ],
      "metadata": {
        "colab": {
          "base_uri": "https://localhost:8080/"
        },
        "id": "dhHXxZ2vlgiD",
        "outputId": "1d88cba9-d3d3-4b48-bd44-89f62949906f"
      },
      "execution_count": null,
      "outputs": [
        {
          "output_type": "stream",
          "name": "stdout",
          "text": [
            "Enter a number: 5\n",
            "Positive and odd\n"
          ]
        }
      ]
    },
    {
      "cell_type": "markdown",
      "source": [
        "Lesson 2.2: Loops"
      ],
      "metadata": {
        "id": "_UbKXc6Kl2sm"
      }
    },
    {
      "cell_type": "code",
      "source": [
        "# Assignment 5: for Loop\n",
        "# Write a program that prints all the numbers from 1 to 10 using a for loop.\n",
        "for i in range(1, 11):\n",
        "    print(i)\n"
      ],
      "metadata": {
        "colab": {
          "base_uri": "https://localhost:8080/"
        },
        "id": "Ib-t1OE5lgfa",
        "outputId": "2d770b99-46d0-4c9c-a5cb-55f9f68f8fec"
      },
      "execution_count": null,
      "outputs": [
        {
          "output_type": "stream",
          "name": "stdout",
          "text": [
            "1\n",
            "2\n",
            "3\n",
            "4\n",
            "5\n",
            "6\n",
            "7\n",
            "8\n",
            "9\n",
            "10\n"
          ]
        }
      ]
    },
    {
      "cell_type": "code",
      "source": [
        "# Assignment 6: while Loop\n",
        "# Write a program that prints all the numbers from 1 to 10 using a while loop.\n",
        "i = 1\n",
        "while i <= 10:\n",
        "    print(i)\n",
        "    i += 1\n"
      ],
      "metadata": {
        "colab": {
          "base_uri": "https://localhost:8080/"
        },
        "id": "ORe79WdUlgdF",
        "outputId": "856e03d0-43e0-454c-9fd5-457e798679d4"
      },
      "execution_count": null,
      "outputs": [
        {
          "output_type": "stream",
          "name": "stdout",
          "text": [
            "1\n",
            "2\n",
            "3\n",
            "4\n",
            "5\n",
            "6\n",
            "7\n",
            "8\n",
            "9\n",
            "10\n"
          ]
        }
      ]
    },
    {
      "cell_type": "code",
      "source": [
        "# Assignment 7: Nested Loops\n",
        "# Write a program that prints a 5x5 grid of asterisks (*) using nested loops.\n",
        "for i in range(5):\n",
        "    for j in range(5):\n",
        "        print(\"*\", end=\" \")\n",
        "    print()\n"
      ],
      "metadata": {
        "colab": {
          "base_uri": "https://localhost:8080/"
        },
        "id": "-t6XYjj4lgaY",
        "outputId": "a133d663-baef-4368-a1c8-385c13fd661b"
      },
      "execution_count": null,
      "outputs": [
        {
          "output_type": "stream",
          "name": "stdout",
          "text": [
            "* * * * * \n",
            "* * * * * \n",
            "* * * * * \n",
            "* * * * * \n",
            "* * * * * \n"
          ]
        }
      ]
    },
    {
      "cell_type": "code",
      "source": [
        "# Assignment 8: break Statement\n",
        "# Write a program that asks the user to input numbers until they input 0. The program should print the sum of all the input numbers.\n",
        "total = 0\n",
        "while True:\n",
        "    num = float(input(\"Enter a number (0 to stop): \"))\n",
        "    if num == 0:\n",
        "        break\n",
        "    total += num\n",
        "print(\"Total sum:\", total)\n"
      ],
      "metadata": {
        "colab": {
          "base_uri": "https://localhost:8080/"
        },
        "id": "d8DUT7G7lgXq",
        "outputId": "6e580d65-c73a-448e-b3dd-43793576f8f2"
      },
      "execution_count": null,
      "outputs": [
        {
          "output_type": "stream",
          "name": "stdout",
          "text": [
            "Enter a number (0 to stop): 5\n",
            "Enter a number (0 to stop): 0\n",
            "Total sum: 5.0\n"
          ]
        }
      ]
    },
    {
      "cell_type": "code",
      "source": [
        "# Assignment 9: continue Statement\n",
        "# Write a program that prints all the numbers from 1 to 10 except 5 using a for loop and continue statement.\n",
        "for i in range(1, 11):\n",
        "    if i == 5:\n",
        "        continue\n",
        "    print(i)\n"
      ],
      "metadata": {
        "colab": {
          "base_uri": "https://localhost:8080/"
        },
        "id": "rC_wrt4BlgVA",
        "outputId": "5b86eb4a-09a1-45e5-9335-2704f8464b21"
      },
      "execution_count": null,
      "outputs": [
        {
          "output_type": "stream",
          "name": "stdout",
          "text": [
            "1\n",
            "2\n",
            "3\n",
            "4\n",
            "6\n",
            "7\n",
            "8\n",
            "9\n",
            "10\n"
          ]
        }
      ]
    },
    {
      "cell_type": "code",
      "source": [
        "# Assignment 10: pass Statement\n",
        "# Write a program that defines an empty function using the pass statement.\n",
        "def my_function():\n",
        "    pass\n"
      ],
      "metadata": {
        "id": "3XK5fTqAlgSf"
      },
      "execution_count": null,
      "outputs": []
    },
    {
      "cell_type": "code",
      "source": [
        "# Assignment 11: Combining Loops and Conditionals\n",
        "# Write a program that asks the user to input a number and prints all the even numbers from 1 to that number using a for loop.\n",
        "n = int(input(\"Enter a number: \"))\n",
        "for i in range(1, n + 1):\n",
        "    if i % 2 == 0:\n",
        "        print(i)\n"
      ],
      "metadata": {
        "colab": {
          "base_uri": "https://localhost:8080/"
        },
        "id": "Rh7DTVYflgP0",
        "outputId": "71836416-7994-4c78-e836-84a593b935cd"
      },
      "execution_count": null,
      "outputs": [
        {
          "output_type": "stream",
          "name": "stdout",
          "text": [
            "Enter a number: 5\n",
            "2\n",
            "4\n"
          ]
        }
      ]
    },
    {
      "cell_type": "code",
      "source": [
        "# Assignment 12: Factorial Calculation\n",
        "# Write a program that calculates the factorial of a number input by the user using a while loop.\n",
        "num = int(input(\"Enter a number: \"))\n",
        "fact = 1\n",
        "i = 1\n",
        "while i <= num:\n",
        "    fact *= i\n",
        "    i += 1\n",
        "print(\"Factorial is:\", fact)\n"
      ],
      "metadata": {
        "colab": {
          "base_uri": "https://localhost:8080/"
        },
        "id": "5wPy2lMxnYkm",
        "outputId": "c661a85f-156f-4fb4-df4e-5f2072d20ff2"
      },
      "execution_count": null,
      "outputs": [
        {
          "output_type": "stream",
          "name": "stdout",
          "text": [
            "Enter a number: 5\n",
            "Factorial is: 120\n"
          ]
        }
      ]
    },
    {
      "cell_type": "code",
      "source": [
        "# Assignment 13: Sum of Digits\n",
        "# Write a program that calculates the sum of the digits of a number input by the user using a while loop.\n",
        "num = int(input(\"Enter a number: \"))\n",
        "total = 0\n",
        "while num > 0:\n",
        "    digit = num % 10\n",
        "    total += digit\n",
        "    num //= 10\n",
        "print(\"Sum of digits:\", total)\n"
      ],
      "metadata": {
        "colab": {
          "base_uri": "https://localhost:8080/"
        },
        "id": "SzUjaQCsnYhB",
        "outputId": "bbfb01ae-59ae-4f2e-c00a-b49de15cce28"
      },
      "execution_count": null,
      "outputs": [
        {
          "output_type": "stream",
          "name": "stdout",
          "text": [
            "Enter a number: 5\n",
            "Sum of digits: 5\n"
          ]
        }
      ]
    },
    {
      "cell_type": "code",
      "source": [
        "# Assignment 14: Prime Number Check\n",
        "# Write a program that checks if a number input by the user is a prime number using a for loop.\n",
        "num = int(input(\"Enter a number: \"))\n",
        "if num < 2:\n",
        "    print(\"Not a prime number\")\n",
        "else:\n",
        "    is_prime = True\n",
        "    for i in range(2, int(num ** 0.5) + 1):\n",
        "        if num % i == 0:\n",
        "            is_prime = False\n",
        "            break\n",
        "    if is_prime:\n",
        "        print(\"Prime number\")\n",
        "    else:\n",
        "        print(\"Not a prime number\")\n"
      ],
      "metadata": {
        "colab": {
          "base_uri": "https://localhost:8080/"
        },
        "id": "1EVX1PTTnYes",
        "outputId": "1ea76d43-6046-43d2-c1d1-ba379fb50e86"
      },
      "execution_count": null,
      "outputs": [
        {
          "output_type": "stream",
          "name": "stdout",
          "text": [
            "Enter a number: 5\n",
            "Prime number\n"
          ]
        }
      ]
    },
    {
      "cell_type": "code",
      "source": [
        "# Assignment 15: Fibonacci Sequence\n",
        "# Write a program that prints the first n Fibonacci numbers, where n is input by the user.\n",
        "n = int(input(\"Enter the number of Fibonacci terms: \"))\n",
        "a, b = 0, 1\n",
        "for _ in range(n):\n",
        "    print(a, end=' ')\n",
        "    a, b = b, a + b\n"
      ],
      "metadata": {
        "colab": {
          "base_uri": "https://localhost:8080/"
        },
        "id": "iYJs5AWMnYch",
        "outputId": "7bd9f814-56a8-46cd-e54f-34220775394f"
      },
      "execution_count": null,
      "outputs": [
        {
          "output_type": "stream",
          "name": "stdout",
          "text": [
            "Enter the number of Fibonacci terms: 5\n",
            "0 1 1 2 3 "
          ]
        }
      ]
    },
    {
      "cell_type": "markdown",
      "source": [
        "Lesson 3.1: Lists"
      ],
      "metadata": {
        "id": "S7QxQPyto0Ed"
      }
    },
    {
      "cell_type": "code",
      "source": [
        "# Assignment 1: Creating and Accessing Lists\n",
        "# Create a list of the first 20 positive integers. Print the list.\n",
        "nums = list(range(1, 21))\n",
        "print(nums)\n"
      ],
      "metadata": {
        "colab": {
          "base_uri": "https://localhost:8080/"
        },
        "id": "OP2ABdtioVo9",
        "outputId": "f62f5c68-50c4-4513-d00b-919076a6fc02"
      },
      "execution_count": null,
      "outputs": [
        {
          "output_type": "stream",
          "name": "stdout",
          "text": [
            "[1, 2, 3, 4, 5, 6, 7, 8, 9, 10, 11, 12, 13, 14, 15, 16, 17, 18, 19, 20]\n"
          ]
        }
      ]
    },
    {
      "cell_type": "code",
      "source": [
        "# Assignment 2: Accessing List Elements\n",
        "# Print the first, middle, and last elements of the list created in Assignment 1.\n",
        "print(\"First:\", nums[0])\n",
        "print(\"Middle:\", nums[len(nums) // 2])\n",
        "print(\"Last:\", nums[-1])\n"
      ],
      "metadata": {
        "colab": {
          "base_uri": "https://localhost:8080/"
        },
        "id": "F1lbSMwsoVlg",
        "outputId": "b7e72c93-7e3b-4347-f5a5-d8b0288428f0"
      },
      "execution_count": null,
      "outputs": [
        {
          "output_type": "stream",
          "name": "stdout",
          "text": [
            "First: 1\n",
            "Middle: 11\n",
            "Last: 20\n"
          ]
        }
      ]
    },
    {
      "cell_type": "code",
      "source": [
        "# Assignment 3: List Slicing\n",
        "# Print the first five elements, the last five elements, and the elements from index 5 to 15 of the list.\n",
        "print(\"First five:\", nums[:5])\n",
        "print(\"Last five:\", nums[-5:])\n",
        "print(\"Index 5 to 15:\", nums[5:16])\n"
      ],
      "metadata": {
        "colab": {
          "base_uri": "https://localhost:8080/"
        },
        "id": "LKWu1koso5QM",
        "outputId": "595a5bce-74e2-42b7-8fe1-19fe268d5e7b"
      },
      "execution_count": null,
      "outputs": [
        {
          "output_type": "stream",
          "name": "stdout",
          "text": [
            "First five: [1, 2, 3, 4, 5]\n",
            "Last five: [16, 17, 18, 19, 20]\n",
            "Index 5 to 15: [6, 7, 8, 9, 10, 11, 12, 13, 14, 15, 16]\n"
          ]
        }
      ]
    },
    {
      "cell_type": "code",
      "source": [
        "# Assignment 4: List Comprehensions\n",
        "# Create a new list containing the squares of the first 10 positive integers using a list comprehension.\n",
        "squares = [x**2 for x in range(1, 11)]\n",
        "print(squares)\n"
      ],
      "metadata": {
        "colab": {
          "base_uri": "https://localhost:8080/"
        },
        "id": "zHrF5OA9o5M0",
        "outputId": "38335d51-a646-4df6-8eec-35e92f2cc2c5"
      },
      "execution_count": null,
      "outputs": [
        {
          "output_type": "stream",
          "name": "stdout",
          "text": [
            "[1, 4, 9, 16, 25, 36, 49, 64, 81, 100]\n"
          ]
        }
      ]
    },
    {
      "cell_type": "code",
      "source": [
        "# Assignment 5: Filtering Lists\n",
        "# Create a new list containing only the even numbers from the list using a list comprehension.\n",
        "evens = [x for x in nums if x % 2 == 0]\n",
        "print(evens)\n"
      ],
      "metadata": {
        "colab": {
          "base_uri": "https://localhost:8080/"
        },
        "id": "3EVTaP1ao5Kf",
        "outputId": "57c43498-cbc6-4ec2-9422-cdd1a8963ad8"
      },
      "execution_count": null,
      "outputs": [
        {
          "output_type": "stream",
          "name": "stdout",
          "text": [
            "[2, 4, 6, 8, 10, 12, 14, 16, 18, 20]\n"
          ]
        }
      ]
    },
    {
      "cell_type": "code",
      "source": [
        "# Assignment 6: List Methods\n",
        "# Create a list of random numbers, sort it in ascending and descending order, remove duplicates, and print the modified list.\n",
        "random_nums = [4, 2, 9, 4, 1, 7, 2, 5]\n",
        "unique_nums = list(set(random_nums))\n",
        "unique_nums.sort()\n",
        "print(\"Ascending:\", unique_nums)\n",
        "unique_nums.sort(reverse=True)\n",
        "print(\"Descending:\", unique_nums)\n"
      ],
      "metadata": {
        "colab": {
          "base_uri": "https://localhost:8080/"
        },
        "id": "SVhcBNEwo5IN",
        "outputId": "682a3c8c-2a6d-4c80-f3ff-03ccf18cb1d1"
      },
      "execution_count": null,
      "outputs": [
        {
          "output_type": "stream",
          "name": "stdout",
          "text": [
            "Ascending: [1, 2, 4, 5, 7, 9]\n",
            "Descending: [9, 7, 5, 4, 2, 1]\n"
          ]
        }
      ]
    },
    {
      "cell_type": "code",
      "source": [
        "# Assignment 7: Nested Lists\n",
        "# Create a nested list representing a 3x3 matrix and print the matrix. Access and print the element at the second row and third column.\n",
        "matrix = [[1, 2, 3], [4, 5, 6], [7, 8, 9]]\n",
        "print(\"Matrix:\")\n",
        "for row in matrix:\n",
        "    print(row)\n",
        "print(\"Element at [1][2]:\", matrix[1][2])\n"
      ],
      "metadata": {
        "colab": {
          "base_uri": "https://localhost:8080/"
        },
        "id": "phuiW3c0o48r",
        "outputId": "dfe8a69d-d2d7-49c6-ae5c-ed07a77c26d1"
      },
      "execution_count": null,
      "outputs": [
        {
          "output_type": "stream",
          "name": "stdout",
          "text": [
            "Matrix:\n",
            "[1, 2, 3]\n",
            "[4, 5, 6]\n",
            "[7, 8, 9]\n",
            "Element at [1][2]: 6\n"
          ]
        }
      ]
    },
    {
      "cell_type": "code",
      "source": [
        "# Assignment 8: List of Dictionaries\n",
        "# Create a list of dictionaries where each dictionary represents a student with keys 'name' and 'score'.\n",
        "# Sort the list by 'score' in descending order and print the sorted list.\n",
        "students = [\n",
        "    {\"name\": \"Alice\", \"score\": 85},\n",
        "    {\"name\": \"Bob\", \"score\": 92},\n",
        "    {\"name\": \"Charlie\", \"score\": 78}\n",
        "]\n",
        "sorted_students = sorted(students, key=lambda x: x['score'], reverse=True)\n",
        "print(sorted_students)\n"
      ],
      "metadata": {
        "colab": {
          "base_uri": "https://localhost:8080/"
        },
        "id": "zWeVkMxWo43E",
        "outputId": "e80dd725-c4ca-4d1a-ca85-a1ea988f73f5"
      },
      "execution_count": null,
      "outputs": [
        {
          "output_type": "stream",
          "name": "stdout",
          "text": [
            "[{'name': 'Bob', 'score': 92}, {'name': 'Alice', 'score': 85}, {'name': 'Charlie', 'score': 78}]\n"
          ]
        }
      ]
    },
    {
      "cell_type": "code",
      "source": [
        "# Assignment 9: Matrix Transposition\n",
        "# Write a function that takes a 3x3 matrix as input and returns its transpose. Print both.\n",
        "def transpose(matrix):\n",
        "    return [[matrix[j][i] for j in range(3)] for i in range(3)]\n",
        "\n",
        "original = [[1, 2, 3], [4, 5, 6], [7, 8, 9]]\n",
        "transposed = transpose(original)\n",
        "print(\"Original:\", original)\n",
        "print(\"Transposed:\", transposed)\n"
      ],
      "metadata": {
        "colab": {
          "base_uri": "https://localhost:8080/"
        },
        "id": "nfhVTLgZo406",
        "outputId": "048ca032-e2e3-4e4a-aaeb-f19495db3515"
      },
      "execution_count": null,
      "outputs": [
        {
          "output_type": "stream",
          "name": "stdout",
          "text": [
            "Original: [[1, 2, 3], [4, 5, 6], [7, 8, 9]]\n",
            "Transposed: [[1, 4, 7], [2, 5, 8], [3, 6, 9]]\n"
          ]
        }
      ]
    },
    {
      "cell_type": "code",
      "source": [
        "# Assignment 10: Flattening a Nested List\n",
        "# Write a function that takes a nested list and flattens it into a single list. Print both lists.\n",
        "def flatten(nested):\n",
        "    return [item for sublist in nested for item in sublist]\n",
        "\n",
        "nested_list = [[1, 2], [3, 4], [5, 6]]\n",
        "flat_list = flatten(nested_list)\n",
        "print(\"Original:\", nested_list)\n",
        "print(\"Flattened:\", flat_list)\n"
      ],
      "metadata": {
        "colab": {
          "base_uri": "https://localhost:8080/"
        },
        "id": "GA2Aut4Lo4ud",
        "outputId": "f3ffba42-61a0-4c41-81ea-a05e5316448f"
      },
      "execution_count": null,
      "outputs": [
        {
          "output_type": "stream",
          "name": "stdout",
          "text": [
            "Original: [[1, 2], [3, 4], [5, 6]]\n",
            "Flattened: [1, 2, 3, 4, 5, 6]\n"
          ]
        }
      ]
    },
    {
      "cell_type": "code",
      "source": [
        "# Assignment 11: List Manipulation\n",
        "# Create a list of the first 10 positive integers. Remove elements at indices 2, 4, 6, and insert '99' at index 5.\n",
        "lst = list(range(1, 11))\n",
        "for idx in sorted([6, 4, 2], reverse=True):\n",
        "    lst.pop(idx)\n",
        "lst.insert(5, 99)\n",
        "print(\"Modified list:\", lst)\n"
      ],
      "metadata": {
        "colab": {
          "base_uri": "https://localhost:8080/"
        },
        "id": "27d8tV6Ro4sR",
        "outputId": "89515511-39b9-499c-b662-af3731988f50"
      },
      "execution_count": null,
      "outputs": [
        {
          "output_type": "stream",
          "name": "stdout",
          "text": [
            "Modified list: [1, 2, 4, 6, 8, 99, 9, 10]\n"
          ]
        }
      ]
    },
    {
      "cell_type": "code",
      "source": [
        "# Assignment 12: List Zipping\n",
        "# Create two lists and zip them into a list of tuples. Print the result.\n",
        "list1 = ['a', 'b', 'c']\n",
        "list2 = [1, 2, 3]\n",
        "zipped = list(zip(list1, list2))\n",
        "print(zipped)\n",
        "\n"
      ],
      "metadata": {
        "colab": {
          "base_uri": "https://localhost:8080/"
        },
        "id": "Tj7mIqZ9o4p5",
        "outputId": "14cc97d6-d242-48b5-f4b9-e4903d0a00f8"
      },
      "execution_count": null,
      "outputs": [
        {
          "output_type": "stream",
          "name": "stdout",
          "text": [
            "[('a', 1), ('b', 2), ('c', 3)]\n"
          ]
        }
      ]
    },
    {
      "cell_type": "code",
      "source": [
        "# Assignment 13: List Reversal\n",
        "# Write a function that returns a reversed version of a list. Print both lists.\n",
        "def reverse_list(lst):\n",
        "    return lst[::-1]\n",
        "\n",
        "original = [1, 2, 3, 4, 5]\n",
        "reversed_list = reverse_list(original)\n",
        "print(\"Original:\", original)\n",
        "print(\"Reversed:\", reversed_list)\n"
      ],
      "metadata": {
        "colab": {
          "base_uri": "https://localhost:8080/"
        },
        "id": "MOBvrbdjo4np",
        "outputId": "a84d400d-fb3a-4561-fb95-d3981b5fe43c"
      },
      "execution_count": null,
      "outputs": [
        {
          "output_type": "stream",
          "name": "stdout",
          "text": [
            "Original: [1, 2, 3, 4, 5]\n",
            "Reversed: [5, 4, 3, 2, 1]\n"
          ]
        }
      ]
    },
    {
      "cell_type": "code",
      "source": [
        "# Assignment 14: List Rotation\n",
        "# Write a function that rotates a list by n positions.\n",
        "def rotate_list(lst, n):\n",
        "    n = n % len(lst)\n",
        "    return lst[n:] + lst[:n]\n",
        "\n",
        "lst = [1, 2, 3, 4, 5]\n",
        "rotated = rotate_list(lst, 2)\n",
        "print(\"Original:\", lst)\n",
        "print(\"Rotated by 2:\", rotated)\n"
      ],
      "metadata": {
        "colab": {
          "base_uri": "https://localhost:8080/"
        },
        "id": "vD93ed9-o4lY",
        "outputId": "6cfd75b3-198c-40a0-da0f-1d365a8df5b2"
      },
      "execution_count": null,
      "outputs": [
        {
          "output_type": "stream",
          "name": "stdout",
          "text": [
            "Original: [1, 2, 3, 4, 5]\n",
            "Rotated by 2: [3, 4, 5, 1, 2]\n"
          ]
        }
      ]
    },
    {
      "cell_type": "code",
      "source": [
        "# Assignment 15: List Intersection\n",
        "# Write a function that returns a list of elements present in both input lists.\n",
        "def intersect_lists(a, b):\n",
        "    return [x for x in a if x in b]\n",
        "\n",
        "list1 = [1, 2, 3, 4]\n",
        "list2 = [3, 4, 5, 6]\n",
        "intersection = intersect_lists(list1, list2)\n",
        "print(\"Intersection:\", intersection)\n"
      ],
      "metadata": {
        "colab": {
          "base_uri": "https://localhost:8080/"
        },
        "id": "F9RhnFaVo4i6",
        "outputId": "e0f9c271-f9f1-4680-dad4-fa96c35ebc17"
      },
      "execution_count": null,
      "outputs": [
        {
          "output_type": "stream",
          "name": "stdout",
          "text": [
            "Intersection: [3, 4]\n"
          ]
        }
      ]
    },
    {
      "cell_type": "markdown",
      "source": [
        "Lesson 3.2 - Tuples"
      ],
      "metadata": {
        "id": "0gaeAOEfYbyM"
      }
    },
    {
      "cell_type": "code",
      "source": [
        "# Assignment 1: Creating and Accessing Tuples\n",
        "# Create a tuple with the first 10 positive integers. Print the tuple.\n",
        "tup = tuple(range(1, 11))\n",
        "print(\"Tuple:\", tup)\n"
      ],
      "metadata": {
        "colab": {
          "base_uri": "https://localhost:8080/"
        },
        "id": "-nblI92Vo4gr",
        "outputId": "8363bfb2-a458-4330-c6c9-a69713821f69"
      },
      "execution_count": null,
      "outputs": [
        {
          "output_type": "stream",
          "name": "stdout",
          "text": [
            "Tuple: (1, 2, 3, 4, 5, 6, 7, 8, 9, 10)\n"
          ]
        }
      ]
    },
    {
      "cell_type": "code",
      "source": [
        "# Assignment 2: Accessing Tuple Elements\n",
        "# Print the first, middle, and last elements of the tuple created in Assignment 1.\n",
        "print(\"First:\", tup[0])\n",
        "print(\"Middle:\", tup[len(tup)//2])\n",
        "print(\"Last:\", tup[-1])\n"
      ],
      "metadata": {
        "colab": {
          "base_uri": "https://localhost:8080/"
        },
        "id": "AOmSEvHAo4cu",
        "outputId": "df6896f8-4c75-4bc0-fc74-456b170fa1d0"
      },
      "execution_count": null,
      "outputs": [
        {
          "output_type": "stream",
          "name": "stdout",
          "text": [
            "First: 1\n",
            "Middle: 6\n",
            "Last: 10\n"
          ]
        }
      ]
    },
    {
      "cell_type": "code",
      "source": [
        "# Assignment 3: Tuple Slicing\n",
        "# Print the first three elements, the last three elements, and the elements from index 2 to 5 of the tuple.\n",
        "print(\"First 3:\", tup[:3])\n",
        "print(\"Last 3:\", tup[-3:])\n",
        "print(\"Index 2 to 5:\", tup[2:6])\n"
      ],
      "metadata": {
        "colab": {
          "base_uri": "https://localhost:8080/"
        },
        "id": "jxQv4Uloo4ZT",
        "outputId": "ecd70e25-f37e-4259-a91e-dd018fa6d824"
      },
      "execution_count": null,
      "outputs": [
        {
          "output_type": "stream",
          "name": "stdout",
          "text": [
            "First 3: (1, 2, 3)\n",
            "Last 3: (8, 9, 10)\n",
            "Index 2 to 5: (3, 4, 5, 6)\n"
          ]
        }
      ]
    },
    {
      "cell_type": "code",
      "source": [
        "# Assignment 4: Nested Tuples\n",
        "# Create a nested tuple representing a 3x3 matrix and print the matrix. Access and print the element at the second row and third column.\n",
        "matrix = ((1, 2, 3), (4, 5, 6), (7, 8, 9))\n",
        "print(\"Matrix:\", matrix)\n",
        "print(\"Element at 2nd row, 3rd column:\", matrix[1][2])\n"
      ],
      "metadata": {
        "colab": {
          "base_uri": "https://localhost:8080/"
        },
        "id": "go6kyqUBo4XD",
        "outputId": "36835ad0-fc6a-463c-ff42-5dcadddada23"
      },
      "execution_count": null,
      "outputs": [
        {
          "output_type": "stream",
          "name": "stdout",
          "text": [
            "Matrix: ((1, 2, 3), (4, 5, 6), (7, 8, 9))\n",
            "Element at 2nd row, 3rd column: 6\n"
          ]
        }
      ]
    },
    {
      "cell_type": "code",
      "source": [
        "# Assignment 5: Tuple Concatenation\n",
        "# Concatenate two tuples: (1, 2, 3) and (4, 5, 6). Print the resulting tuple.\n",
        "t1 = (1, 2, 3)\n",
        "t2 = (4, 5, 6)\n",
        "print(\"Concatenated Tuple:\", t1 + t2)\n"
      ],
      "metadata": {
        "colab": {
          "base_uri": "https://localhost:8080/"
        },
        "id": "j1bYi0jHYzL2",
        "outputId": "1994eebf-fa57-4877-a42d-e228688c2aa3"
      },
      "execution_count": null,
      "outputs": [
        {
          "output_type": "stream",
          "name": "stdout",
          "text": [
            "Concatenated Tuple: (1, 2, 3, 4, 5, 6)\n"
          ]
        }
      ]
    },
    {
      "cell_type": "code",
      "source": [
        "# Assignment 6: Tuple Methods\n",
        "# Create a tuple with duplicate elements and count the occurrences of an element. Find the index of the first occurrence of an element in the tuple.\n",
        "dup_tup = (1, 2, 3, 2, 4, 2)\n",
        "print(\"Count of 2:\", dup_tup.count(2))\n",
        "print(\"Index of first 2:\", dup_tup.index(2))\n"
      ],
      "metadata": {
        "colab": {
          "base_uri": "https://localhost:8080/"
        },
        "id": "Am99vdWSYy-c",
        "outputId": "e57d31aa-e03f-4a78-c146-cd0597fecab5"
      },
      "execution_count": null,
      "outputs": [
        {
          "output_type": "stream",
          "name": "stdout",
          "text": [
            "Count of 2: 3\n",
            "Index of first 2: 1\n"
          ]
        }
      ]
    },
    {
      "cell_type": "code",
      "source": [
        "# Assignment 7: Unpacking Tuples\n",
        "# Create a tuple with 5 elements and unpack it into 5 variables. Print the variables.\n",
        "a, b, c, d, e = (10, 20, 30, 40, 50)\n",
        "print(a, b, c, d, e)\n"
      ],
      "metadata": {
        "colab": {
          "base_uri": "https://localhost:8080/"
        },
        "id": "tpzERAGgYy68",
        "outputId": "2ed3131d-1c5e-48df-86b0-15d1bd8a9420"
      },
      "execution_count": null,
      "outputs": [
        {
          "output_type": "stream",
          "name": "stdout",
          "text": [
            "10 20 30 40 50\n"
          ]
        }
      ]
    },
    {
      "cell_type": "code",
      "source": [
        "# Assignment 8: Tuple Conversion\n",
        "# Convert a list of the first 5 positive integers to a tuple. Print the tuple.\n",
        "lst = [1, 2, 3, 4, 5]\n",
        "converted = tuple(lst)\n",
        "print(\"Converted Tuple:\", converted)\n"
      ],
      "metadata": {
        "colab": {
          "base_uri": "https://localhost:8080/"
        },
        "id": "3h7Bb5zAYy4U",
        "outputId": "512176aa-541d-4ecb-d2af-7cd43b971690"
      },
      "execution_count": null,
      "outputs": [
        {
          "output_type": "stream",
          "name": "stdout",
          "text": [
            "Converted Tuple: (1, 2, 3, 4, 5)\n"
          ]
        }
      ]
    },
    {
      "cell_type": "code",
      "source": [
        "# Assignment 10: Tuple and List\n",
        "# Create a tuple with the first 5 positive integers. Convert it to a list, append the number 6, and convert it back to a tuple. Print the resulting tuple.\n",
        "tup = (1, 2, 3, 4, 5)\n",
        "lst = list(tup)\n",
        "lst.append(6)\n",
        "tup = tuple(lst)\n",
        "print(\"Modified Tuple:\", tup)\n"
      ],
      "metadata": {
        "colab": {
          "base_uri": "https://localhost:8080/"
        },
        "id": "jeoZCQw0Yy1_",
        "outputId": "f1c6a92e-8bec-4678-b044-8402e080d8b9"
      },
      "execution_count": null,
      "outputs": [
        {
          "output_type": "stream",
          "name": "stdout",
          "text": [
            "Modified Tuple: (1, 2, 3, 4, 5, 6)\n"
          ]
        }
      ]
    },
    {
      "cell_type": "code",
      "source": [
        "# Assignment 11: Tuple and String\n",
        "# Create a tuple with the characters of a string. Join the tuple elements into a single string. Print the string.\n",
        "char_tuple = tuple(\"hello\")\n",
        "joined = \"\".join(char_tuple)\n",
        "print(\"Joined String:\", joined)\n"
      ],
      "metadata": {
        "colab": {
          "base_uri": "https://localhost:8080/"
        },
        "id": "4_yv4MkhYyzt",
        "outputId": "ee356cf6-05b9-4e69-a42e-855218d88045"
      },
      "execution_count": null,
      "outputs": [
        {
          "output_type": "stream",
          "name": "stdout",
          "text": [
            "Joined String: hello\n"
          ]
        }
      ]
    },
    {
      "cell_type": "code",
      "source": [
        "# Assignment 12: Tuple and Dictionary\n",
        "# Create a dictionary with tuple keys and integer values. Print the dictionary.\n",
        "dict_with_tuples = { (1, 2): 100, (3, 4): 200, (5, 6): 300 }\n",
        "print(\"Dictionary:\", dict_with_tuples)\n"
      ],
      "metadata": {
        "colab": {
          "base_uri": "https://localhost:8080/"
        },
        "id": "cs9yAE8RYywp",
        "outputId": "5894c29d-2244-41ab-920a-f80bf1a86c78"
      },
      "execution_count": null,
      "outputs": [
        {
          "output_type": "stream",
          "name": "stdout",
          "text": [
            "Dictionary: {(1, 2): 100, (3, 4): 200, (5, 6): 300}\n"
          ]
        }
      ]
    },
    {
      "cell_type": "code",
      "source": [
        "# Assignment 13: Nested Tuple Iteration\n",
        "# Create a nested tuple and iterate over the elements, printing each element.\n",
        "nested = ((1, 2), (3, 4), (5, 6))\n",
        "for sub in nested:\n",
        "    for val in sub:\n",
        "        print(val)\n"
      ],
      "metadata": {
        "colab": {
          "base_uri": "https://localhost:8080/"
        },
        "id": "0NOrSC47YyuR",
        "outputId": "4ae03683-a7ed-4278-b615-5873a63b341a"
      },
      "execution_count": null,
      "outputs": [
        {
          "output_type": "stream",
          "name": "stdout",
          "text": [
            "1\n",
            "2\n",
            "3\n",
            "4\n",
            "5\n",
            "6\n"
          ]
        }
      ]
    },
    {
      "cell_type": "code",
      "source": [
        "# Assignment 14: Tuple and Set\n",
        "# Create a tuple with duplicate elements. Convert it to a set to remove duplicates and print the resulting set.\n",
        "dup_tuple = (1, 2, 2, 3, 4, 4, 5)\n",
        "unique = set(dup_tuple)\n",
        "print(\"Set with unique values:\", unique)\n"
      ],
      "metadata": {
        "colab": {
          "base_uri": "https://localhost:8080/"
        },
        "id": "ejq14PstYysA",
        "outputId": "eeed1c65-f0dd-4324-dd19-b21fa158db4b"
      },
      "execution_count": null,
      "outputs": [
        {
          "output_type": "stream",
          "name": "stdout",
          "text": [
            "Set with unique values: {1, 2, 3, 4, 5}\n"
          ]
        }
      ]
    },
    {
      "cell_type": "code",
      "source": [
        "# Assignment 15: Tuple Functions\n",
        "# Write functions that take a tuple and return the minimum, maximum, and sum of the elements. Print the results for a sample tuple.\n",
        "def tuple_stats(t):\n",
        "    return min(t), max(t), sum(t)\n",
        "\n",
        "sample = (10, 20, 30, 40, 50)\n",
        "mn, mx, total = tuple_stats(sample)\n",
        "print(\"Min:\", mn, \"Max:\", mx, \"Sum:\", total)\n"
      ],
      "metadata": {
        "colab": {
          "base_uri": "https://localhost:8080/"
        },
        "id": "moVp9fRhYypv",
        "outputId": "2bb32602-eb16-4b10-8bee-63fb8fc00577"
      },
      "execution_count": null,
      "outputs": [
        {
          "output_type": "stream",
          "name": "stdout",
          "text": [
            "Min: 10 Max: 50 Sum: 150\n"
          ]
        }
      ]
    },
    {
      "cell_type": "markdown",
      "source": [
        "Lesson 3.3 – Sets"
      ],
      "metadata": {
        "id": "lFXWugjJaE5l"
      }
    },
    {
      "cell_type": "code",
      "source": [
        "# Assignment 1: Create a set with the first 10 positive integers. Print the set.\n",
        "s = set(range(1, 11))\n",
        "print(\"Set:\", s)\n"
      ],
      "metadata": {
        "colab": {
          "base_uri": "https://localhost:8080/"
        },
        "id": "0NvfOWWdYyne",
        "outputId": "9490a89d-5828-4f14-ac2f-be2ac2f294e8"
      },
      "execution_count": null,
      "outputs": [
        {
          "output_type": "stream",
          "name": "stdout",
          "text": [
            "Set: {1, 2, 3, 4, 5, 6, 7, 8, 9, 10}\n"
          ]
        }
      ]
    },
    {
      "cell_type": "code",
      "source": [
        "# Assignment 2: Add 11 to the set and remove 1. Print the modified set.\n",
        "s.add(11)\n",
        "s.remove(1)\n",
        "print(\"Modified Set:\", s)\n"
      ],
      "metadata": {
        "colab": {
          "base_uri": "https://localhost:8080/"
        },
        "id": "jDe1ify5YylA",
        "outputId": "f6b0757d-e1c7-4f35-d7ec-8e6cfdd2571d"
      },
      "execution_count": null,
      "outputs": [
        {
          "output_type": "stream",
          "name": "stdout",
          "text": [
            "Modified Set: {2, 3, 4, 5, 6, 7, 8, 9, 10, 11}\n"
          ]
        }
      ]
    },
    {
      "cell_type": "code",
      "source": [
        "# Assignment 3: Perform union, intersection, difference, and symmetric difference.\n",
        "set1 = set(range(1, 6))\n",
        "set2 = set([2, 4, 6, 8, 10])\n",
        "print(\"Union:\", set1 | set2)\n",
        "print(\"Intersection:\", set1 & set2)\n",
        "print(\"Difference:\", set1 - set2)\n",
        "print(\"Symmetric Difference:\", set1 ^ set2)\n"
      ],
      "metadata": {
        "colab": {
          "base_uri": "https://localhost:8080/"
        },
        "id": "Wdh3R7PKaZnc",
        "outputId": "0b9ee461-8811-433f-a645-fc6727607220"
      },
      "execution_count": null,
      "outputs": [
        {
          "output_type": "stream",
          "name": "stdout",
          "text": [
            "Union: {1, 2, 3, 4, 5, 6, 8, 10}\n",
            "Intersection: {2, 4}\n",
            "Difference: {1, 3, 5}\n",
            "Symmetric Difference: {1, 3, 5, 6, 8, 10}\n"
          ]
        }
      ]
    },
    {
      "cell_type": "code",
      "source": [
        "# Assignment 4: Create a set with the squares of the first 10 positive integers.\n",
        "squares = {x ** 2 for x in range(1, 11)}\n",
        "print(\"Squares Set:\", squares)\n"
      ],
      "metadata": {
        "colab": {
          "base_uri": "https://localhost:8080/"
        },
        "id": "Vu6VKxGkaZj-",
        "outputId": "df24ddba-3b44-41db-c9f7-85c26fe49a96"
      },
      "execution_count": null,
      "outputs": [
        {
          "output_type": "stream",
          "name": "stdout",
          "text": [
            "Squares Set: {64, 1, 4, 36, 100, 9, 16, 49, 81, 25}\n"
          ]
        }
      ]
    },
    {
      "cell_type": "code",
      "source": [
        "# Assignment 5: Create a set with only the even numbers from the set created earlier.\n",
        "even_nums = {x for x in s if x % 2 == 0}\n",
        "print(\"Even Numbers Set:\", even_nums)\n"
      ],
      "metadata": {
        "colab": {
          "base_uri": "https://localhost:8080/"
        },
        "id": "P6_zcXfaaZiY",
        "outputId": "448a17a7-9354-4375-d2d6-9d5651218918"
      },
      "execution_count": null,
      "outputs": [
        {
          "output_type": "stream",
          "name": "stdout",
          "text": [
            "Even Numbers Set: {2, 4, 6, 8, 10}\n"
          ]
        }
      ]
    },
    {
      "cell_type": "code",
      "source": [
        "# Assignment 6: Create a set with duplicate elements and remove duplicates using set methods. Print the modified set.\n",
        "dup_list = [1, 2, 2, 3, 4, 4, 5]\n",
        "unique_set = set(dup_list)\n",
        "print(\"Set with duplicates removed:\", unique_set)\n"
      ],
      "metadata": {
        "colab": {
          "base_uri": "https://localhost:8080/"
        },
        "id": "Ofc8S0VAaZfw",
        "outputId": "bcc81bbe-c428-4986-cd09-7c7c43078df4"
      },
      "execution_count": null,
      "outputs": [
        {
          "output_type": "stream",
          "name": "stdout",
          "text": [
            "Set with duplicates removed: {1, 2, 3, 4, 5}\n"
          ]
        }
      ]
    },
    {
      "cell_type": "code",
      "source": [
        "# Assignment 7: Check if one set is a subset/superset of another and print the results.\n",
        "set_a = {1, 2, 3, 4, 5}\n",
        "set_b = {1, 2, 3}\n",
        "print(\"Is set_b a subset of set_a?\", set_b.issubset(set_a))\n",
        "print(\"Is set_a a superset of set_b?\", set_a.issuperset(set_b))\n"
      ],
      "metadata": {
        "colab": {
          "base_uri": "https://localhost:8080/"
        },
        "id": "b0tPeOb8aZdt",
        "outputId": "efbff256-fc8a-41c4-d8c8-c32fbfe136a9"
      },
      "execution_count": null,
      "outputs": [
        {
          "output_type": "stream",
          "name": "stdout",
          "text": [
            "Is set_b a subset of set_a? True\n",
            "Is set_a a superset of set_b? True\n"
          ]
        }
      ]
    },
    {
      "cell_type": "code",
      "source": [
        "# Assignment 8: Create a frozenset with the first 5 positive integers and print it.\n",
        "frozen = frozenset(range(1, 6))\n",
        "print(\"Frozenset:\", frozen)\n",
        "\n"
      ],
      "metadata": {
        "colab": {
          "base_uri": "https://localhost:8080/"
        },
        "id": "sQRQrf81aZbW",
        "outputId": "b6650482-8024-4d72-ca7a-d90eb03d3b3e"
      },
      "execution_count": null,
      "outputs": [
        {
          "output_type": "stream",
          "name": "stdout",
          "text": [
            "Frozenset: frozenset({1, 2, 3, 4, 5})\n"
          ]
        }
      ]
    },
    {
      "cell_type": "code",
      "source": [
        "# Assignment 9: Convert a set to a list, append 6, convert back to a set, and print.\n",
        "my_set = set(range(1, 6))\n",
        "temp_list = list(my_set)\n",
        "temp_list.append(6)\n",
        "new_set = set(temp_list)\n",
        "print(\"Modified Set:\", new_set)\n"
      ],
      "metadata": {
        "colab": {
          "base_uri": "https://localhost:8080/"
        },
        "id": "FubCsa3BaZZf",
        "outputId": "8446423f-ac14-4c26-900e-7be3e99fd2b0"
      },
      "execution_count": null,
      "outputs": [
        {
          "output_type": "stream",
          "name": "stdout",
          "text": [
            "Modified Set: {1, 2, 3, 4, 5, 6}\n"
          ]
        }
      ]
    },
    {
      "cell_type": "code",
      "source": [
        "# Assignment 10: Create a dictionary with tuple keys (since sets can't be keys) and integer values.\n",
        "my_dict = {\n",
        "    (1, 2): 10,\n",
        "    (3, 4): 20,\n",
        "    (5, 6): 30\n",
        "}\n",
        "print(\"Dictionary with tuple keys:\", my_dict)\n"
      ],
      "metadata": {
        "colab": {
          "base_uri": "https://localhost:8080/"
        },
        "id": "U7sC-HSHaZXh",
        "outputId": "95b2c2f8-8b4c-4deb-b56d-3130469dcf54"
      },
      "execution_count": null,
      "outputs": [
        {
          "output_type": "stream",
          "name": "stdout",
          "text": [
            "Dictionary with tuple keys: {(1, 2): 10, (3, 4): 20, (5, 6): 30}\n"
          ]
        }
      ]
    },
    {
      "cell_type": "code",
      "source": [
        "# Assignment 11: Create a set and iterate over the elements, printing each element.\n",
        "my_set = {1, 2, 3, 4, 5}\n",
        "print(\"Elements in the set:\")\n",
        "for item in my_set:\n",
        "    print(item)\n"
      ],
      "metadata": {
        "colab": {
          "base_uri": "https://localhost:8080/"
        },
        "id": "8A_NVo1NaZVW",
        "outputId": "86043d00-a16b-49b7-82ba-584dd94aeb00"
      },
      "execution_count": null,
      "outputs": [
        {
          "output_type": "stream",
          "name": "stdout",
          "text": [
            "Elements in the set:\n",
            "1\n",
            "2\n",
            "3\n",
            "4\n",
            "5\n"
          ]
        }
      ]
    },
    {
      "cell_type": "code",
      "source": [
        "# Assignment 12: Create a set and remove elements until it is empty. Print after each removal.\n",
        "my_set = {1, 2, 3, 4, 5}\n",
        "while my_set:\n",
        "    removed = my_set.pop()\n",
        "    print(f\"Removed: {removed}, Remaining Set: {my_set}\")\n"
      ],
      "metadata": {
        "colab": {
          "base_uri": "https://localhost:8080/"
        },
        "id": "hz0C-rUQaZTO",
        "outputId": "b556bd31-28a3-4731-9086-d336b00b6089"
      },
      "execution_count": null,
      "outputs": [
        {
          "output_type": "stream",
          "name": "stdout",
          "text": [
            "Removed: 1, Remaining Set: {2, 3, 4, 5}\n",
            "Removed: 2, Remaining Set: {3, 4, 5}\n",
            "Removed: 3, Remaining Set: {4, 5}\n",
            "Removed: 4, Remaining Set: {5}\n",
            "Removed: 5, Remaining Set: set()\n"
          ]
        }
      ]
    },
    {
      "cell_type": "code",
      "source": [
        "# Assignment 13: Update the first set with the symmetric difference of two sets.\n",
        "set1 = {1, 2, 3}\n",
        "set2 = {3, 4, 5}\n",
        "set1.symmetric_difference_update(set2)\n",
        "print(\"Modified Set1 after symmetric difference update:\", set1)\n"
      ],
      "metadata": {
        "colab": {
          "base_uri": "https://localhost:8080/"
        },
        "id": "7OzB125maZRZ",
        "outputId": "88339432-7979-4410-c6df-69649874681f"
      },
      "execution_count": null,
      "outputs": [
        {
          "output_type": "stream",
          "name": "stdout",
          "text": [
            "Modified Set1 after symmetric difference update: {1, 2, 4, 5}\n"
          ]
        }
      ]
    },
    {
      "cell_type": "code",
      "source": [
        "# Assignment 14: Create a set and test if certain elements are present. Print results.\n",
        "s = {10, 20, 30, 40, 50}\n",
        "print(\"Is 20 in the set?\", 20 in s)\n",
        "print(\"Is 100 in the set?\", 100 in s)\n"
      ],
      "metadata": {
        "colab": {
          "base_uri": "https://localhost:8080/"
        },
        "id": "qXoPU7P4aZPD",
        "outputId": "10f51bae-0b13-43c5-c85d-1e6bf43cfba0"
      },
      "execution_count": null,
      "outputs": [
        {
          "output_type": "stream",
          "name": "stdout",
          "text": [
            "Is 20 in the set? True\n",
            "Is 100 in the set? False\n"
          ]
        }
      ]
    },
    {
      "cell_type": "code",
      "source": [
        "# Assignment 15: Create a set containing tuples, where each tuple contains two elements. Print the set.\n",
        "tuple_set = {(1, 2), (3, 4), (5, 6)}\n",
        "print(\"Set of tuples:\", tuple_set)\n"
      ],
      "metadata": {
        "colab": {
          "base_uri": "https://localhost:8080/"
        },
        "id": "PwV4H5vBaZM1",
        "outputId": "2154bfbf-e9cc-41a2-de69-edf612a912e6"
      },
      "execution_count": null,
      "outputs": [
        {
          "output_type": "stream",
          "name": "stdout",
          "text": [
            "Set of tuples: {(1, 2), (3, 4), (5, 6)}\n"
          ]
        }
      ]
    },
    {
      "cell_type": "markdown",
      "source": [
        "Lesson 3.4 – Dictionaries"
      ],
      "metadata": {
        "id": "WdjcAhdabDfi"
      }
    },
    {
      "cell_type": "code",
      "source": [
        "# Assignment 1: Create a dictionary with the first 10 positive integers as keys and their squares as values. Print the dictionary.\n",
        "squares = {i: i**2 for i in range(1, 11)}\n",
        "print(\"Dictionary of squares:\", squares)\n"
      ],
      "metadata": {
        "colab": {
          "base_uri": "https://localhost:8080/"
        },
        "id": "93XoMAEvaZKe",
        "outputId": "b6e0ecbb-f41f-4700-8270-7e98a6ebfa1f"
      },
      "execution_count": null,
      "outputs": [
        {
          "output_type": "stream",
          "name": "stdout",
          "text": [
            "Dictionary of squares: {1: 1, 2: 4, 3: 9, 4: 16, 5: 25, 6: 36, 7: 49, 8: 64, 9: 81, 10: 100}\n"
          ]
        }
      ]
    },
    {
      "cell_type": "code",
      "source": [
        "# Assignment 2: Print the value of the key 5 and the keys of the dictionary created in Assignment 1.\n",
        "print(\"Value for key 5:\", squares[5])\n",
        "print(\"All keys in the dictionary:\", list(squares.keys()))\n"
      ],
      "metadata": {
        "colab": {
          "base_uri": "https://localhost:8080/"
        },
        "id": "cEKhRm2XaZIn",
        "outputId": "5114421a-91bb-4bc9-c2c3-36b0e3b41f98"
      },
      "execution_count": null,
      "outputs": [
        {
          "output_type": "stream",
          "name": "stdout",
          "text": [
            "Value for key 5: 25\n",
            "All keys in the dictionary: [1, 2, 3, 4, 5, 6, 7, 8, 9, 10]\n"
          ]
        }
      ]
    },
    {
      "cell_type": "code",
      "source": [
        "# Assignment 3: Add (11, 121) and remove key 1. Print the modified dictionary.\n",
        "squares[11] = 121\n",
        "squares.pop(1)\n",
        "print(\"Modified dictionary:\", squares)\n"
      ],
      "metadata": {
        "colab": {
          "base_uri": "https://localhost:8080/"
        },
        "id": "HEXatdKjaZGf",
        "outputId": "3c370af9-6eda-4299-f62b-17709687b891"
      },
      "execution_count": null,
      "outputs": [
        {
          "output_type": "stream",
          "name": "stdout",
          "text": [
            "Modified dictionary: {2: 4, 3: 9, 4: 16, 5: 25, 6: 36, 7: 49, 8: 64, 9: 81, 10: 100, 11: 121}\n"
          ]
        }
      ]
    },
    {
      "cell_type": "code",
      "source": [
        "# Assignment 4: Iterate over the dictionary and print key-value pairs.\n",
        "for key, value in squares.items():\n",
        "    print(f\"Key: {key}, Value: {value}\")\n"
      ],
      "metadata": {
        "colab": {
          "base_uri": "https://localhost:8080/"
        },
        "id": "2yG1deJ9aZCx",
        "outputId": "f86861e7-3a8c-48df-deff-c9a54451f470"
      },
      "execution_count": null,
      "outputs": [
        {
          "output_type": "stream",
          "name": "stdout",
          "text": [
            "Key: 2, Value: 4\n",
            "Key: 3, Value: 9\n",
            "Key: 4, Value: 16\n",
            "Key: 5, Value: 25\n",
            "Key: 6, Value: 36\n",
            "Key: 7, Value: 49\n",
            "Key: 8, Value: 64\n",
            "Key: 9, Value: 81\n",
            "Key: 10, Value: 100\n",
            "Key: 11, Value: 121\n"
          ]
        }
      ]
    },
    {
      "cell_type": "code",
      "source": [
        "# Assignment 5: Create a new dictionary with cubes of first 10 positive integers using comprehension.\n",
        "cubes = {i: i**3 for i in range(1, 11)}\n",
        "print(\"Dictionary of cubes:\", cubes)\n"
      ],
      "metadata": {
        "colab": {
          "base_uri": "https://localhost:8080/"
        },
        "id": "Vopfd22RaZAk",
        "outputId": "c34a8395-3dd8-4cbe-ed8e-abbc1edebdb3"
      },
      "execution_count": null,
      "outputs": [
        {
          "output_type": "stream",
          "name": "stdout",
          "text": [
            "Dictionary of cubes: {1: 1, 2: 8, 3: 27, 4: 64, 5: 125, 6: 216, 7: 343, 8: 512, 9: 729, 10: 1000}\n"
          ]
        }
      ]
    },
    {
      "cell_type": "code",
      "source": [
        "# Assignment 6: Merge two dictionaries of squares\n",
        "dict1 = {i: i**2 for i in range(1, 6)}\n",
        "dict2 = {i: i**2 for i in range(6, 11)}\n",
        "merged = {**dict1, **dict2}\n",
        "print(\"Merged dictionary:\", merged)\n"
      ],
      "metadata": {
        "colab": {
          "base_uri": "https://localhost:8080/"
        },
        "id": "TWjTZ0V_aY-c",
        "outputId": "6cb70247-4108-4db3-8a79-98f5734873ed"
      },
      "execution_count": null,
      "outputs": [
        {
          "output_type": "stream",
          "name": "stdout",
          "text": [
            "Merged dictionary: {1: 1, 2: 4, 3: 9, 4: 16, 5: 25, 6: 36, 7: 49, 8: 64, 9: 81, 10: 100}\n"
          ]
        }
      ]
    },
    {
      "cell_type": "code",
      "source": [
        "# Assignment 7: Nested dictionary for student info\n",
        "student = {\n",
        "    'name': 'Alice',\n",
        "    'age': 17,\n",
        "    'grades': {\n",
        "        'math': 95,\n",
        "        'science': 89,\n",
        "        'english': 92\n",
        "    }\n",
        "}\n",
        "print(\"Student dictionary:\", student)\n"
      ],
      "metadata": {
        "colab": {
          "base_uri": "https://localhost:8080/"
        },
        "id": "k0zJZ1sjaY8L",
        "outputId": "5f265dea-b9fa-4408-a7c7-9da69cdc5fc6"
      },
      "execution_count": null,
      "outputs": [
        {
          "output_type": "stream",
          "name": "stdout",
          "text": [
            "Student dictionary: {'name': 'Alice', 'age': 17, 'grades': {'math': 95, 'science': 89, 'english': 92}}\n"
          ]
        }
      ]
    },
    {
      "cell_type": "code",
      "source": [
        "# Assignment 8: Dictionary with lists of multiples\n",
        "multiples = {i: [i * j for j in range(1, 6)] for i in range(1, 6)}\n",
        "print(\"Multiples dictionary:\", multiples)\n"
      ],
      "metadata": {
        "colab": {
          "base_uri": "https://localhost:8080/"
        },
        "id": "QSh574XwaY6U",
        "outputId": "1d2a340a-8591-4160-a4c1-34f811cb1599"
      },
      "execution_count": null,
      "outputs": [
        {
          "output_type": "stream",
          "name": "stdout",
          "text": [
            "Multiples dictionary: {1: [1, 2, 3, 4, 5], 2: [2, 4, 6, 8, 10], 3: [3, 6, 9, 12, 15], 4: [4, 8, 12, 16, 20], 5: [5, 10, 15, 20, 25]}\n"
          ]
        }
      ]
    },
    {
      "cell_type": "code",
      "source": [
        "# Assignment 9: Dictionary with tuples (number, square)\n",
        "tuples_dict = {i: (i, i**2) for i in range(1, 6)}\n",
        "print(\"Dictionary of tuples:\", tuples_dict)\n"
      ],
      "metadata": {
        "colab": {
          "base_uri": "https://localhost:8080/"
        },
        "id": "85JNFCYGaY4X",
        "outputId": "9d26943a-2865-4b15-f291-991380344ed6"
      },
      "execution_count": null,
      "outputs": [
        {
          "output_type": "stream",
          "name": "stdout",
          "text": [
            "Dictionary of tuples: {1: (1, 1), 2: (2, 4), 3: (3, 9), 4: (4, 16), 5: (5, 25)}\n"
          ]
        }
      ]
    },
    {
      "cell_type": "code",
      "source": [
        "# Assignment 10: Convert dictionary to list of tuples\n",
        "dict_ = {i: i**2 for i in range(1, 6)}\n",
        "tuple_list = list(dict_.items())\n",
        "print(\"List of tuples:\", tuple_list)\n"
      ],
      "metadata": {
        "colab": {
          "base_uri": "https://localhost:8080/"
        },
        "id": "WhbcHZv5aY2G",
        "outputId": "cf9db547-9a6d-4603-8d2a-47d656472b3d"
      },
      "execution_count": null,
      "outputs": [
        {
          "output_type": "stream",
          "name": "stdout",
          "text": [
            "List of tuples: [(1, 1), (2, 4), (3, 9), (4, 16), (5, 25)]\n"
          ]
        }
      ]
    },
    {
      "cell_type": "code",
      "source": [
        "# Assignment 11: Filter dictionary to keep only even keys\n",
        "original_dict = {i: i**2 for i in range(1, 11)}\n",
        "even_keys_dict = {k: v for k, v in original_dict.items() if k % 2 == 0}\n",
        "print(\"Filtered dictionary (even keys):\", even_keys_dict)\n"
      ],
      "metadata": {
        "colab": {
          "base_uri": "https://localhost:8080/"
        },
        "id": "VZoj7SfLaYzv",
        "outputId": "35ec75b0-27a2-4200-e28d-92b00f90201d"
      },
      "execution_count": null,
      "outputs": [
        {
          "output_type": "stream",
          "name": "stdout",
          "text": [
            "Filtered dictionary (even keys): {2: 4, 4: 16, 6: 36, 8: 64, 10: 100}\n"
          ]
        }
      ]
    },
    {
      "cell_type": "code",
      "source": [
        "# Assignment 12: Swap keys and values\n",
        "original_dict = {i: i**2 for i in range(1, 6)}\n",
        "swapped_dict = {v: k for k, v in original_dict.items()}\n",
        "print(\"Swapped dictionary:\", swapped_dict)\n"
      ],
      "metadata": {
        "colab": {
          "base_uri": "https://localhost:8080/"
        },
        "id": "LNBQbCAyaYxZ",
        "outputId": "6b031e48-b3f0-4674-bae6-fdabc0b890d0"
      },
      "execution_count": null,
      "outputs": [
        {
          "output_type": "stream",
          "name": "stdout",
          "text": [
            "Swapped dictionary: {1: 1, 4: 2, 9: 3, 16: 4, 25: 5}\n"
          ]
        }
      ]
    },
    {
      "cell_type": "code",
      "source": [
        "# Assignment 13: Use defaultdict with lists\n",
        "from collections import defaultdict\n",
        "\n",
        "d = defaultdict(list)\n",
        "d['a'].extend([1, 2])\n",
        "d['b'].append(3)\n",
        "print(\"Default dictionary:\", dict(d))\n"
      ],
      "metadata": {
        "colab": {
          "base_uri": "https://localhost:8080/"
        },
        "id": "No_xJwuXaYvp",
        "outputId": "032aa864-dc74-4cb9-d9fd-a25edee68b52"
      },
      "execution_count": null,
      "outputs": [
        {
          "output_type": "stream",
          "name": "stdout",
          "text": [
            "Default dictionary: {'a': [1, 2], 'b': [3]}\n"
          ]
        }
      ]
    },
    {
      "cell_type": "code",
      "source": [
        "# Assignment 14: Count character frequency in a string\n",
        "def char_count(s):\n",
        "    count = {}\n",
        "    for c in s:\n",
        "        count[c] = count.get(c, 0) + 1\n",
        "    return count\n",
        "\n",
        "print(\"Character count:\", char_count(\"hello world\"))\n"
      ],
      "metadata": {
        "colab": {
          "base_uri": "https://localhost:8080/"
        },
        "id": "40XC9FL_aYtw",
        "outputId": "08435991-af0e-47a4-f341-434d7a13fa72"
      },
      "execution_count": null,
      "outputs": [
        {
          "output_type": "stream",
          "name": "stdout",
          "text": [
            "Character count: {'h': 1, 'e': 1, 'l': 3, 'o': 2, ' ': 1, 'w': 1, 'r': 1, 'd': 1}\n"
          ]
        }
      ]
    },
    {
      "cell_type": "code",
      "source": [
        "# Assignment 15: Convert dictionary to JSON string\n",
        "import json\n",
        "\n",
        "book = {\n",
        "    'title': '1984',\n",
        "    'author': 'George Orwell',\n",
        "    'year': 1949,\n",
        "    'genre': 'Dystopian'\n",
        "}\n",
        "book_json = json.dumps(book)\n",
        "print(\"Book JSON:\", book_json)\n"
      ],
      "metadata": {
        "colab": {
          "base_uri": "https://localhost:8080/"
        },
        "id": "j8byflsBaYrZ",
        "outputId": "56b1c961-a628-4ad5-8c5c-5dfd59a42ed8"
      },
      "execution_count": null,
      "outputs": [
        {
          "output_type": "stream",
          "name": "stdout",
          "text": [
            "Book JSON: {\"title\": \"1984\", \"author\": \"George Orwell\", \"year\": 1949, \"genre\": \"Dystopian\"}\n"
          ]
        }
      ]
    },
    {
      "cell_type": "markdown",
      "source": [
        "Module 4: Functions Assignments"
      ],
      "metadata": {
        "id": "J6OTmyllbtGM"
      }
    },
    {
      "cell_type": "markdown",
      "source": [
        "Lesson 4.1: Defining Functions"
      ],
      "metadata": {
        "id": "udW8XyReb9g8"
      }
    },
    {
      "cell_type": "code",
      "source": [
        "# Assignment 1\n",
        "# Define a function that takes a single integer as input and returns its square. Test the function with different inputs.\n",
        "\n",
        "def square(n):\n",
        "    return n ** 2\n",
        "\n",
        "print(\"Assignment 1:\", square(4), square(10))\n"
      ],
      "metadata": {
        "colab": {
          "base_uri": "https://localhost:8080/"
        },
        "id": "UnOYRAuHbuaT",
        "outputId": "e3ab9bda-5c26-4b39-adfc-25bed4f28c97"
      },
      "execution_count": null,
      "outputs": [
        {
          "output_type": "stream",
          "name": "stdout",
          "text": [
            "Assignment 1: 16 100\n"
          ]
        }
      ]
    },
    {
      "cell_type": "code",
      "source": [
        "# Assignment 2\n",
        "# Define a function that takes two integers as input and returns their sum. Test the function with different inputs.\n",
        "\n",
        "def add(a, b):\n",
        "    return a + b\n",
        "\n",
        "print(\"Assignment 2:\", add(3, 5), add(10, 20))\n"
      ],
      "metadata": {
        "colab": {
          "base_uri": "https://localhost:8080/"
        },
        "id": "bBfrzqffbuWy",
        "outputId": "cc582f1e-49d5-4d60-f6de-77b1a6845054"
      },
      "execution_count": null,
      "outputs": [
        {
          "output_type": "stream",
          "name": "stdout",
          "text": [
            "Assignment 2: 8 30\n"
          ]
        }
      ]
    },
    {
      "cell_type": "code",
      "source": [
        "# Assignment 3\n",
        "# Define a function that takes two integers as input and returns their sum. The second integer should have a default value of 5. Test the function with different inputs.\n",
        "\n",
        "def add_default(a, b=5):\n",
        "    return a + b\n",
        "\n",
        "print(\"Assignment 3:\", add_default(3), add_default(3, 7))\n"
      ],
      "metadata": {
        "colab": {
          "base_uri": "https://localhost:8080/"
        },
        "id": "hrOTY4i5buUl",
        "outputId": "06f44555-d850-45a1-8add-98b4e04bb637"
      },
      "execution_count": null,
      "outputs": [
        {
          "output_type": "stream",
          "name": "stdout",
          "text": [
            "Assignment 3: 8 10\n"
          ]
        }
      ]
    },
    {
      "cell_type": "code",
      "source": [
        "# Assignment 4\n",
        "# Define a function that takes three named arguments: first_name, last_name, and age, and returns a formatted string. Test the function with different inputs.\n",
        "\n",
        "def format_person(first_name, last_name, age):\n",
        "    return f\"{first_name} {last_name} is {age} years old.\"\n",
        "\n",
        "print(\"Assignment 4:\", format_person(first_name=\"John\", last_name=\"Doe\", age=30))\n"
      ],
      "metadata": {
        "colab": {
          "base_uri": "https://localhost:8080/"
        },
        "id": "KUXSb69kbuSG",
        "outputId": "7a7d920e-50e9-4aa7-b9f3-c02d1b8236b3"
      },
      "execution_count": null,
      "outputs": [
        {
          "output_type": "stream",
          "name": "stdout",
          "text": [
            "Assignment 4: John Doe is 30 years old.\n"
          ]
        }
      ]
    },
    {
      "cell_type": "code",
      "source": [
        "# Assignment 5\n",
        "# Define a function that takes a variable number of integer arguments and returns their product. Test the function with different inputs.\n",
        "\n",
        "def product(*args):\n",
        "    result = 1\n",
        "    for num in args:\n",
        "        result *= num\n",
        "    return result\n",
        "\n",
        "print(\"Assignment 5:\", product(1, 2, 3), product(4, 5))\n"
      ],
      "metadata": {
        "colab": {
          "base_uri": "https://localhost:8080/"
        },
        "id": "s0QD4O_rbuPm",
        "outputId": "bd4305e4-a662-47ff-d08b-8fef6f36def1"
      },
      "execution_count": null,
      "outputs": [
        {
          "output_type": "stream",
          "name": "stdout",
          "text": [
            "Assignment 5: 6 20\n"
          ]
        }
      ]
    },
    {
      "cell_type": "code",
      "source": [
        "# Assignment 6\n",
        "# Define a function that contains another function inside it.\n",
        "# The outer function should take two integers as input and return the result of the inner function, which multiplies the two integers.\n",
        "# Test the function with different inputs.\n",
        "\n",
        "def outer_mul(a, b):\n",
        "    def inner_mul(x, y):\n",
        "        return x * y\n",
        "    return inner_mul(a, b)\n",
        "\n",
        "print(\"Assignment 6:\", outer_mul(3, 4), outer_mul(5, 6))\n"
      ],
      "metadata": {
        "colab": {
          "base_uri": "https://localhost:8080/"
        },
        "id": "hJwHFghWbuNU",
        "outputId": "aed362e7-a190-4f09-c02a-96bcf9cd125b"
      },
      "execution_count": null,
      "outputs": [
        {
          "output_type": "stream",
          "name": "stdout",
          "text": [
            "Assignment 6: 12 30\n"
          ]
        }
      ]
    },
    {
      "cell_type": "code",
      "source": [
        "# Assignment 7\n",
        "# Define a function that takes a single integer as input and returns the integer squared, cubed, and raised to the power of four. Test the function with different inputs.\n",
        "\n",
        "def powers(n):\n",
        "    return n**2, n**3, n**4\n",
        "\n",
        "print(\"Assignment 7:\", powers(2), powers(3))\n"
      ],
      "metadata": {
        "colab": {
          "base_uri": "https://localhost:8080/"
        },
        "id": "4RXC9M3xbuK_",
        "outputId": "0eecce59-1269-4cdd-9713-6ce029655335"
      },
      "execution_count": null,
      "outputs": [
        {
          "output_type": "stream",
          "name": "stdout",
          "text": [
            "Assignment 7: (4, 8, 16) (9, 27, 81)\n"
          ]
        }
      ]
    },
    {
      "cell_type": "code",
      "source": [
        "# Assignment 8\n",
        "# Define a recursive function that calculates the factorial of a given number. Test the function with different inputs.\n",
        "\n",
        "def factorial(n):\n",
        "    if n == 0 or n == 1:\n",
        "        return 1\n",
        "    else:\n",
        "        return n * factorial(n - 1)\n",
        "\n",
        "print(\"Assignment 8:\", factorial(5), factorial(7))\n"
      ],
      "metadata": {
        "colab": {
          "base_uri": "https://localhost:8080/"
        },
        "id": "T1jCaIZqbuI0",
        "outputId": "ed544eb9-8418-4c15-ff55-1e78f374fbed"
      },
      "execution_count": null,
      "outputs": [
        {
          "output_type": "stream",
          "name": "stdout",
          "text": [
            "Assignment 8: 120 5040\n"
          ]
        }
      ]
    },
    {
      "cell_type": "code",
      "source": [
        "# Assignment 9\n",
        "# Define a lambda function that takes two integers as input and returns their sum. Test the lambda function with different inputs.\n",
        "\n",
        "add_lambda = lambda a, b: a + b\n",
        "\n",
        "print(\"Assignment 9:\", add_lambda(3, 4), add_lambda(10, 20))\n"
      ],
      "metadata": {
        "colab": {
          "base_uri": "https://localhost:8080/"
        },
        "id": "lRqFWYS-buGn",
        "outputId": "fc52c8e9-7937-49ae-a6fc-15a12cb3a4b6"
      },
      "execution_count": null,
      "outputs": [
        {
          "output_type": "stream",
          "name": "stdout",
          "text": [
            "Assignment 9: 7 30\n"
          ]
        }
      ]
    },
    {
      "cell_type": "code",
      "source": [
        "# Assignment 10\n",
        "# Use the map function to apply a lambda function that squares each number in a list of integers. Test with different lists.\n",
        "\n",
        "nums = [1, 2, 3, 4]\n",
        "squared_nums = list(map(lambda x: x**2, nums))\n",
        "\n",
        "print(\"Assignment 10:\", squared_nums)\n"
      ],
      "metadata": {
        "colab": {
          "base_uri": "https://localhost:8080/"
        },
        "id": "XawwRol_buEI",
        "outputId": "35b08e83-f039-40ec-9867-1f515077c18b"
      },
      "execution_count": null,
      "outputs": [
        {
          "output_type": "stream",
          "name": "stdout",
          "text": [
            "Assignment 10: [1, 4, 9, 16]\n"
          ]
        }
      ]
    },
    {
      "cell_type": "code",
      "source": [
        "# Assignment 11\n",
        "# Use the filter function to filter out all odd numbers from a list of integers. Test with different lists.\n",
        "\n",
        "nums = [1, 2, 3, 4, 5, 6]\n",
        "evens = list(filter(lambda x: x % 2 == 0, nums))\n",
        "\n",
        "print(\"Assignment 11:\", evens)\n"
      ],
      "metadata": {
        "colab": {
          "base_uri": "https://localhost:8080/"
        },
        "id": "7DeziPxGbuBh",
        "outputId": "449ac733-1a46-4a48-b8cf-85d67505aef2"
      },
      "execution_count": null,
      "outputs": [
        {
          "output_type": "stream",
          "name": "stdout",
          "text": [
            "Assignment 11: [2, 4, 6]\n"
          ]
        }
      ]
    },
    {
      "cell_type": "code",
      "source": [
        "# Assignment 12\n",
        "# Define a decorator function that prints 'Executing function...' before executing a function and 'Function executed.' after executing it.\n",
        "# Apply this decorator to a function that takes a list of integers and returns their sum. Test the decorated function with different lists.\n",
        "\n",
        "def decorator(func):\n",
        "    def wrapper(lst):\n",
        "        print(\"Executing function...\")\n",
        "        result = func(lst)\n",
        "        print(\"Function executed.\")\n",
        "        return result\n",
        "    return wrapper\n",
        "\n",
        "@decorator\n",
        "def sum_list(lst):\n",
        "    return sum(lst)\n",
        "\n",
        "print(\"Assignment 12:\", sum_list([1, 2, 3, 4]))\n"
      ],
      "metadata": {
        "colab": {
          "base_uri": "https://localhost:8080/"
        },
        "id": "S53by4UYbtcO",
        "outputId": "a14965f8-4a98-4173-d19a-b5c9f4e53fce"
      },
      "execution_count": null,
      "outputs": [
        {
          "output_type": "stream",
          "name": "stdout",
          "text": [
            "Executing function...\n",
            "Function executed.\n",
            "Assignment 12: 10\n"
          ]
        }
      ]
    },
    {
      "cell_type": "code",
      "source": [
        "# Assignment 13\n",
        "# Define a function that takes variable-length arguments and keyword arguments and prints them. Test the function with different inputs.\n",
        "\n",
        "def var_args(*args, **kwargs):\n",
        "    print(\"Positional arguments:\", args)\n",
        "    print(\"Keyword arguments:\", kwargs)\n",
        "\n",
        "print(\"Assignment 13:\")\n",
        "var_args(1, 2, 3, name=\"Alice\", age=25)\n"
      ],
      "metadata": {
        "colab": {
          "base_uri": "https://localhost:8080/"
        },
        "id": "TjiBR9UiaYpD",
        "outputId": "5b0dd55c-d51d-41d0-9119-fdc74c87f345"
      },
      "execution_count": null,
      "outputs": [
        {
          "output_type": "stream",
          "name": "stdout",
          "text": [
            "Assignment 13:\n",
            "Positional arguments: (1, 2, 3)\n",
            "Keyword arguments: {'name': 'Alice', 'age': 25}\n"
          ]
        }
      ]
    },
    {
      "cell_type": "code",
      "source": [
        "# Assignment 14\n",
        "# Define a higher-order function that takes a function and a list of integers as arguments,\n",
        "# and applies the function to each integer in the list. Test with different functions and lists.\n",
        "\n",
        "def apply_func(func, lst):\n",
        "    return [func(x) for x in lst]\n",
        "\n",
        "print(\"Assignment 14:\", apply_func(lambda x: x**2, [1, 2, 3, 4]))\n"
      ],
      "metadata": {
        "colab": {
          "base_uri": "https://localhost:8080/"
        },
        "id": "kaEpcilnd20y",
        "outputId": "3f45d26e-e833-4edf-8802-3772c4e6eeea"
      },
      "execution_count": null,
      "outputs": [
        {
          "output_type": "stream",
          "name": "stdout",
          "text": [
            "Assignment 14: [1, 4, 9, 16]\n"
          ]
        }
      ]
    },
    {
      "cell_type": "code",
      "source": [
        "# Assignment 15\n",
        "# Define a function with a docstring that explains what the function does, its parameters, and its return value. Print the function's docstring.\n",
        "\n",
        "def example_func(a, b):\n",
        "    \"\"\"\n",
        "    This function adds two numbers.\n",
        "    Parameters:\n",
        "    a (int): first number\n",
        "    b (int): second number\n",
        "    Returns:\n",
        "    int: sum of a and b\n",
        "    \"\"\"\n",
        "    return a + b\n",
        "\n",
        "print(\"Assignment 15 docstring:\\n\", example_func.__doc__)\n",
        "\n"
      ],
      "metadata": {
        "colab": {
          "base_uri": "https://localhost:8080/"
        },
        "id": "7UC9q-Zjd2xu",
        "outputId": "2d1c0bd2-ed92-49b9-b536-71e7c1f8a37a"
      },
      "execution_count": null,
      "outputs": [
        {
          "output_type": "stream",
          "name": "stdout",
          "text": [
            "Assignment 15 docstring:\n",
            " \n",
            "    This function adds two numbers.\n",
            "    Parameters:\n",
            "    a (int): first number\n",
            "    b (int): second number\n",
            "    Returns:\n",
            "    int: sum of a and b\n",
            "    \n"
          ]
        }
      ]
    },
    {
      "cell_type": "markdown",
      "source": [
        "Advanced Functions Assignments"
      ],
      "metadata": {
        "id": "sPI2ExWaeAHN"
      }
    },
    {
      "cell_type": "code",
      "source": [
        "# Assignment 1\n",
        "# Define a recursive function to calculate the nth Fibonacci number using memoization. Test the function with different inputs.\n",
        "\n",
        "def fibonacci(n, memo={}):\n",
        "    if n in memo:\n",
        "        return memo[n]\n",
        "    if n <= 1:\n",
        "        return n\n",
        "    memo[n] = fibonacci(n-1, memo) + fibonacci(n-2, memo)\n",
        "    return memo[n]\n",
        "\n",
        "print(\"Assignment 1:\", fibonacci(10), fibonacci(15))\n"
      ],
      "metadata": {
        "colab": {
          "base_uri": "https://localhost:8080/"
        },
        "id": "5n0HMB6NeMNB",
        "outputId": "0cfddd29-cd1c-4946-d061-213f8c573670"
      },
      "execution_count": null,
      "outputs": [
        {
          "output_type": "stream",
          "name": "stdout",
          "text": [
            "Assignment 1: 55 610\n"
          ]
        }
      ]
    },
    {
      "cell_type": "code",
      "source": [
        "# Assignment 2\n",
        "# Define a function that takes two arguments, a and b, where b is a dictionary with a default value of an empty dictionary.\n",
        "# The function should add a new key-value pair to the dictionary and return it. Test the function with different inputs.\n",
        "\n",
        "def add_to_dict(a, b=None):\n",
        "    if b is None:\n",
        "        b = {}\n",
        "    b[a] = a * 2\n",
        "    return b\n",
        "\n",
        "print(\"Assignment 2:\", add_to_dict(5))\n",
        "print(\"Assignment 2:\", add_to_dict(3, {'x': 10}))\n"
      ],
      "metadata": {
        "colab": {
          "base_uri": "https://localhost:8080/"
        },
        "id": "Ms08tjJod2vc",
        "outputId": "0371738d-afe4-4dcd-b4ec-3fdb9eece055"
      },
      "execution_count": null,
      "outputs": [
        {
          "output_type": "stream",
          "name": "stdout",
          "text": [
            "Assignment 2: {5: 10}\n",
            "Assignment 2: {'x': 10, 3: 6}\n"
          ]
        }
      ]
    },
    {
      "cell_type": "code",
      "source": [
        "# Assignment 3\n",
        "# Define a function that takes a variable number of keyword arguments and returns a dictionary containing only those key-value pairs where the value is an integer.\n",
        "\n",
        "def filter_int_kwargs(**kwargs):\n",
        "    result = {}\n",
        "    for key, value in kwargs.items():\n",
        "        if type(value) == int:\n",
        "            result[key] = value\n",
        "    return result\n",
        "\n",
        "print(\"Assignment 3:\", filter_int_kwargs(a=1, b=\"hello\", c=5.5, d=4)) # Output: {'a': 1, 'd': 4}\n"
      ],
      "metadata": {
        "colab": {
          "base_uri": "https://localhost:8080/"
        },
        "id": "wFg9WLBud2o-",
        "outputId": "d0be1e54-3cf0-4ee6-cfbc-7219ee9deb9d"
      },
      "execution_count": null,
      "outputs": [
        {
          "output_type": "stream",
          "name": "stdout",
          "text": [
            "Assignment 3: {'a': 1, 'd': 4}\n"
          ]
        }
      ]
    },
    {
      "cell_type": "code",
      "source": [
        "# Assignment 4\n",
        "# Define a function that takes another function as a callback and a list of integers.\n",
        "# The function applies the callback to each number and returns a new list.\n",
        "\n",
        "def apply_callback(func, numbers):\n",
        "    result = []\n",
        "    for num in numbers:\n",
        "        result.append(func(num))\n",
        "    return result\n",
        "\n",
        "print(\"Assignment 4:\", apply_callback(lambda x: x*2, [1,2,3]))  # Output: [2,4,6]\n",
        "print(\"Assignment 4:\", apply_callback(lambda x: x+1, [4,5]))    # Output: [5,6]\n"
      ],
      "metadata": {
        "colab": {
          "base_uri": "https://localhost:8080/"
        },
        "id": "C308mcIMd2lb",
        "outputId": "d3f6e6bd-76ec-4d13-a9e7-f15aa09dcbe4"
      },
      "execution_count": null,
      "outputs": [
        {
          "output_type": "stream",
          "name": "stdout",
          "text": [
            "Assignment 4: [2, 4, 6]\n",
            "Assignment 4: [5, 6]\n"
          ]
        }
      ]
    },
    {
      "cell_type": "code",
      "source": [
        "# Assignment 5\n",
        "# Define a function that returns another function which squares a number.\n",
        "\n",
        "def make_square_function():\n",
        "    def square(x):\n",
        "        return x * x\n",
        "    return square\n",
        "\n",
        "square_func = make_square_function()\n",
        "print(\"Assignment 5:\", square_func(3))  # Output: 9\n",
        "print(\"Assignment 5:\", square_func(5))  # Output: 25\n"
      ],
      "metadata": {
        "colab": {
          "base_uri": "https://localhost:8080/"
        },
        "id": "E7IlO2i0fcNW",
        "outputId": "9bd5a9a0-e06c-43f9-a2ec-ec41b6cc7579"
      },
      "execution_count": null,
      "outputs": [
        {
          "output_type": "stream",
          "name": "stdout",
          "text": [
            "Assignment 5: 9\n",
            "Assignment 5: 25\n"
          ]
        }
      ]
    },
    {
      "cell_type": "code",
      "source": [
        "# Assignment 6\n",
        "# Define a decorator that prints messages before and after the execution of a function.\n",
        "\n",
        "import time\n",
        "\n",
        "def timer_decorator(func):\n",
        "    def wrapper(*args):\n",
        "        print(\"Starting function...\")\n",
        "        start_time = time.time()\n",
        "        result = func(*args)\n",
        "        end_time = time.time()\n",
        "        print(f\"Finished function in {end_time - start_time:.4f} seconds\")\n",
        "        return result\n",
        "    return wrapper\n",
        "\n",
        "@timer_decorator\n",
        "def add_numbers(n):\n",
        "    total = 0\n",
        "    for i in range(n):\n",
        "        total += i\n",
        "    return total\n",
        "\n",
        "print(\"Assignment 6:\", add_numbers(100000))  # Output: sum and timing messages\n"
      ],
      "metadata": {
        "colab": {
          "base_uri": "https://localhost:8080/"
        },
        "id": "WydL1plefcHp",
        "outputId": "7aed4bcc-cb9b-4f65-b6f9-617f37829cbb"
      },
      "execution_count": null,
      "outputs": [
        {
          "output_type": "stream",
          "name": "stdout",
          "text": [
            "Starting function...\n",
            "Finished function in 0.0048 seconds\n",
            "Assignment 6: 4999950000\n"
          ]
        }
      ]
    },
    {
      "cell_type": "code",
      "source": [
        "# Assignment 7\n",
        "# Define a function that filters even numbers and then squares them.\n",
        "\n",
        "def filter_and_map(filter_func, map_func, numbers):\n",
        "    filtered = []\n",
        "    for num in numbers:\n",
        "        if filter_func(num):\n",
        "            filtered.append(map_func(num))\n",
        "    return filtered\n",
        "\n",
        "print(\"Assignment 7:\", filter_and_map(lambda x: x % 2 == 0, lambda x: x*x, [1,2,3,4]))\n",
        "# Output: [4, 16]\n"
      ],
      "metadata": {
        "colab": {
          "base_uri": "https://localhost:8080/"
        },
        "id": "bsJ1fiYUfcFP",
        "outputId": "f44d1a10-c576-4592-a2e0-b6e81f329971"
      },
      "execution_count": null,
      "outputs": [
        {
          "output_type": "stream",
          "name": "stdout",
          "text": [
            "Assignment 7: [4, 16]\n"
          ]
        }
      ]
    },
    {
      "cell_type": "code",
      "source": [
        "# Assignment 8\n",
        "# Define a function to compose two functions f(g(x)).\n",
        "\n",
        "def compose(f, g):\n",
        "    def composed(x):\n",
        "        return f(g(x))\n",
        "    return composed\n",
        "\n",
        "def add_two(x):\n",
        "    return x + 2\n",
        "\n",
        "def times_three(x):\n",
        "    return x * 3\n",
        "\n",
        "new_func = compose(add_two, times_three)\n",
        "print(\"Assignment 8:\", new_func(4))  # Output: 14 because 3*4=12 +2=14\n"
      ],
      "metadata": {
        "colab": {
          "base_uri": "https://localhost:8080/"
        },
        "id": "zGIFdLWefcC-",
        "outputId": "37b06052-e28d-48d1-c88b-5e8957f128cd"
      },
      "execution_count": null,
      "outputs": [
        {
          "output_type": "stream",
          "name": "stdout",
          "text": [
            "Assignment 8: 14\n"
          ]
        }
      ]
    },
    {
      "cell_type": "code",
      "source": [
        "# Assignment 9\n",
        "# Use functools.partial to create a function that multiplies by 2.\n",
        "\n",
        "from functools import partial\n",
        "\n",
        "def multiply(x, y):\n",
        "    return x * y\n",
        "\n",
        "times_two = partial(multiply, 2)\n",
        "print(\"Assignment 9:\", times_two(5))  # Output: 10\n",
        "print(\"Assignment 9:\", times_two(10)) # Output: 20\n"
      ],
      "metadata": {
        "colab": {
          "base_uri": "https://localhost:8080/"
        },
        "id": "76NX4dtbfcA0",
        "outputId": "d478ea05-0ac5-4b9f-e40b-aeff9f8a47ce"
      },
      "execution_count": null,
      "outputs": [
        {
          "output_type": "stream",
          "name": "stdout",
          "text": [
            "Assignment 9: 10\n",
            "Assignment 9: 20\n"
          ]
        }
      ]
    },
    {
      "cell_type": "code",
      "source": [
        "# Assignment 10\n",
        "# Define a function that returns the average of a list, handling empty list safely.\n",
        "\n",
        "def average(numbers):\n",
        "    if len(numbers) == 0:\n",
        "        return None\n",
        "    return sum(numbers) / len(numbers)\n",
        "\n",
        "print(\"Assignment 10:\", average([1, 2, 3]))  # Output: 2.0\n",
        "print(\"Assignment 10:\", average([]))         # Output: None\n"
      ],
      "metadata": {
        "colab": {
          "base_uri": "https://localhost:8080/"
        },
        "id": "LTt6e9yWfb8o",
        "outputId": "c544b2df-ccae-410b-cd3e-7f48a0d46373"
      },
      "execution_count": null,
      "outputs": [
        {
          "output_type": "stream",
          "name": "stdout",
          "text": [
            "Assignment 10: 2.0\n",
            "Assignment 10: None\n"
          ]
        }
      ]
    },
    {
      "cell_type": "code",
      "source": [
        "# Assignment 11\n",
        "# Define a generator function that yields Fibonacci numbers endlessly.\n",
        "\n",
        "def fibonacci_generator():\n",
        "    a, b = 0, 1\n",
        "    while True:\n",
        "        yield a\n",
        "        a, b = b, a + b\n",
        "\n",
        "fib_gen = fibonacci_generator()\n",
        "print(\"Assignment 11:\", [next(fib_gen) for _ in range(10)])  # Output: first 10 Fibonacci numbers\n"
      ],
      "metadata": {
        "colab": {
          "base_uri": "https://localhost:8080/"
        },
        "id": "7Q7W94-dfb6g",
        "outputId": "bd83ee81-55ae-4854-947a-5bcfe1011d22"
      },
      "execution_count": null,
      "outputs": [
        {
          "output_type": "stream",
          "name": "stdout",
          "text": [
            "Assignment 11: [0, 1, 1, 2, 3, 5, 8, 13, 21, 34]\n"
          ]
        }
      ]
    },
    {
      "cell_type": "code",
      "source": [
        "# Assignment 12\n",
        "# Define a curried function to multiply three numbers, one at a time.\n",
        "\n",
        "def curried_multiply(a):\n",
        "    def multiply_b(b):\n",
        "        def multiply_c(c):\n",
        "            return a * b * c\n",
        "        return multiply_c\n",
        "    return multiply_b\n",
        "\n",
        "result = curried_multiply(2)(3)(4)\n",
        "print(\"Assignment 12:\", result)  # Output: 24\n"
      ],
      "metadata": {
        "colab": {
          "base_uri": "https://localhost:8080/"
        },
        "id": "CuroG8sjfb35",
        "outputId": "d9b23c11-f94a-436d-87a4-ed5ddca957c8"
      },
      "execution_count": null,
      "outputs": [
        {
          "output_type": "stream",
          "name": "stdout",
          "text": [
            "Assignment 12: 24\n"
          ]
        }
      ]
    },
    {
      "cell_type": "code",
      "source": [
        "# Assignment 13\n",
        "# Define a function that writes a list of integers to a file safely.\n",
        "\n",
        "def write_numbers_to_file(numbers, filename=\"numbers.txt\"):\n",
        "    try:\n",
        "        with open(filename, \"w\") as file:\n",
        "            for num in numbers:\n",
        "                file.write(str(num) + \"\\n\")\n",
        "        print(\"Assignment 13: Write successful.\")\n",
        "    except Exception as e:\n",
        "        print(f\"Assignment 13: Error - {e}\")\n",
        "\n",
        "write_numbers_to_file([1, 2, 3, 4])\n"
      ],
      "metadata": {
        "colab": {
          "base_uri": "https://localhost:8080/"
        },
        "id": "pKm2V8Arfb1n",
        "outputId": "c62c81e7-97a8-4144-ec9c-c48eab46c1a5"
      },
      "execution_count": null,
      "outputs": [
        {
          "output_type": "stream",
          "name": "stdout",
          "text": [
            "Assignment 13: Write successful.\n"
          ]
        }
      ]
    },
    {
      "cell_type": "code",
      "source": [
        "# Assignment 14\n",
        "# Define a function that takes a list of mixed types and separates them into three lists.\n",
        "\n",
        "def separate_types(lst):\n",
        "    ints = []\n",
        "    strs = []\n",
        "    floats = []\n",
        "    for item in lst:\n",
        "        if type(item) == int:\n",
        "            ints.append(item)\n",
        "        elif type(item) == str:\n",
        "            strs.append(item)\n",
        "        elif type(item) == float:\n",
        "            floats.append(item)\n",
        "    return ints, strs, floats\n",
        "\n",
        "ints, strs, floats = separate_types([1, \"a\", 2.5, 3, \"b\", 4.7])\n",
        "print(\"Assignment 14:\", ints, strs, floats)  # Output: [1,3], ['a','b'], [2.5,4.7]\n"
      ],
      "metadata": {
        "colab": {
          "base_uri": "https://localhost:8080/"
        },
        "id": "xr7jYRnPhC7e",
        "outputId": "77cf9898-2ea7-465f-d195-2c52191821b9"
      },
      "execution_count": null,
      "outputs": [
        {
          "output_type": "stream",
          "name": "stdout",
          "text": [
            "Assignment 14: [1, 3] ['a', 'b'] [2.5, 4.7]\n"
          ]
        }
      ]
    },
    {
      "cell_type": "code",
      "source": [
        "# Assignment 15\n",
        "# Define a function that keeps track of how many times it was called using a mutable default argument.\n",
        "\n",
        "def call_counter(count=[0]):\n",
        "    count[0] += 1\n",
        "    return f\"Called {count[0]} times\"\n",
        "\n",
        "print(\"Assignment 15:\", call_counter())\n",
        "print(\"Assignment 15:\", call_counter())\n",
        "print(\"Assignment 15:\", call_counter())\n"
      ],
      "metadata": {
        "colab": {
          "base_uri": "https://localhost:8080/"
        },
        "id": "6HaIYz-UhC35",
        "outputId": "7d66f8d0-eca8-486f-bb4c-15bfc77c6b31"
      },
      "execution_count": null,
      "outputs": [
        {
          "output_type": "stream",
          "name": "stdout",
          "text": [
            "Assignment 15: Called 1 times\n",
            "Assignment 15: Called 2 times\n",
            "Assignment 15: Called 3 times\n"
          ]
        }
      ]
    },
    {
      "cell_type": "code",
      "source": [
        "class rectangle():\n",
        "  def __init__(self,width,height) :\n",
        "    self.width=width\n",
        "    self.height=height\n",
        "  def area(self,colour):\n",
        "    print(colour)\n",
        "    return self.width*self.height\n",
        "\n"
      ],
      "metadata": {
        "id": "iVsy0Nt-v_iG"
      },
      "execution_count": null,
      "outputs": []
    },
    {
      "cell_type": "code",
      "source": [
        "r=rectangle(10,20)\n",
        "r.area(\"red\")"
      ],
      "metadata": {
        "colab": {
          "base_uri": "https://localhost:8080/"
        },
        "id": "7DULiiLnPQ_p",
        "outputId": "7d4afae6-2bf2-4515-dc2a-47fb3840d029"
      },
      "execution_count": null,
      "outputs": [
        {
          "output_type": "stream",
          "name": "stdout",
          "text": [
            "red\n"
          ]
        },
        {
          "output_type": "execute_result",
          "data": {
            "text/plain": [
              "200"
            ]
          },
          "metadata": {},
          "execution_count": 19
        }
      ]
    },
    {
      "cell_type": "code",
      "source": [],
      "metadata": {
        "id": "V9sd41YrRdP3"
      },
      "execution_count": null,
      "outputs": []
    }
  ]
}